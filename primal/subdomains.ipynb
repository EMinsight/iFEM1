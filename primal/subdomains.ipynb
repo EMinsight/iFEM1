{
 "cells": [
  {
   "cell_type": "markdown",
   "metadata": {},
   "source": [
    "Variable Coefficients\n",
    "===\n",
    "$\\DeclareMathOperator{\\opdiv}{div}$\n",
    "\n",
    "A setup with varying heat-conductivity is modeled by the equation\n",
    "\n",
    "$$\n",
    "-\\opdiv \\lambda(x) \\nabla u(x) = f(x),\n",
    "$$\n",
    "\n",
    "where $\\lambda$ is the heat-conductivity, relating the heat-flux \n",
    "\n",
    "$$\n",
    "q = -\\lambda \\nabla u\n",
    "$$\n",
    "\n",
    "to the temperature gradient $\\nabla u$.\n",
    "\n",
    "In the case of discontinuous $\\lambda$, the equation is understood in distributional sense. This includes the interface conditions: The temperature on the left and right side are equal, and the heat flux leaving the left side enters the right side:\n",
    "\n",
    "\\begin{eqnarray*}\n",
    "u_l & = & u_r \\\\\n",
    "\\lambda_l \\frac{\\partial u_r}{\\partial n} & = & \\lambda_r \\frac{\\partial u_r}{\\partial n}\n",
    "\\end{eqnarray*}\n",
    "\n",
    "The variational form is: find $u \\in H^1(\\Omega)$\n",
    "\n",
    "$$\n",
    "\\int_\\Omega \\lambda(x) \\nabla u \\nabla v = \\int_\\Omega f v\n",
    "$$\n",
    "\n",
    "There is no issue with discontinuous coefficients. Both interface conditions are included: \n",
    "* continuity of temperature $u$ by the continuity of the trial space\n",
    "* continuity of the heat flux in weak sense, such as Neumann boundary conditions"
   ]
  },
  {
   "cell_type": "code",
   "execution_count": null,
   "metadata": {},
   "outputs": [],
   "source": [
    "import netgen.gui\n",
    "from ngsolve import *"
   ]
  },
  {
   "cell_type": "markdown",
   "metadata": {},
   "source": [
    "Make a 2D geometry:"
   ]
  },
  {
   "cell_type": "code",
   "execution_count": null,
   "metadata": {},
   "outputs": [],
   "source": [
    "from netgen.geom2d import *\n",
    "geo = SplineGeometry()\n",
    "geo.AddRectangle( (0,0), (1,1), leftdomain=1, rightdomain=0, \n",
    "                 bcs=['b','r','t','l'])\n",
    "geo.AddCircle( (0.3,0.7), 0.1, leftdomain=2, rightdomain=1)\n",
    "geo.AddRectangle ( (0.2,0.2), (0.9,0.3), leftdomain=3, rightdomain=1)\n",
    "geo.SetMaterial(1, \"air\")\n",
    "geo.SetMaterial(2, \"source\")\n",
    "geo.SetMaterial(3, \"bar\")\n",
    "\n",
    "mesh = Mesh(geo.GenerateMesh(maxh=0.03))\n",
    "mesh.Curve(3)\n",
    "Draw (mesh)"
   ]
  },
  {
   "cell_type": "code",
   "execution_count": null,
   "metadata": {},
   "outputs": [],
   "source": [
    "print (mesh.GetMaterials())"
   ]
  },
  {
   "cell_type": "code",
   "execution_count": null,
   "metadata": {},
   "outputs": [],
   "source": [
    "print (mesh.GetBoundaries())"
   ]
  },
  {
   "cell_type": "code",
   "execution_count": null,
   "metadata": {},
   "outputs": [],
   "source": [
    "fes = H1(mesh, order=3, dirichlet=\"b|r\")\n",
    "u = fes.TrialFunction()\n",
    "v = fes.TestFunction()"
   ]
  },
  {
   "cell_type": "markdown",
   "metadata": {},
   "source": [
    "make a coefficient function taking one constant per material. Uses Python list comprehension."
   ]
  },
  {
   "cell_type": "code",
   "execution_count": null,
   "metadata": {},
   "outputs": [],
   "source": [
    "lamvalues = { \"air\" : 1, \"bar\" : 100, \"source\" : 2 }\n",
    "lam = CoefficientFunction( \n",
    "    [lamvalues[mat] for mat in mesh.GetMaterials()])\n",
    "Draw (lam, mesh, \"lambda\")"
   ]
  },
  {
   "cell_type": "code",
   "execution_count": null,
   "metadata": {},
   "outputs": [],
   "source": [
    "lamvalues"
   ]
  },
  {
   "cell_type": "markdown",
   "metadata": {},
   "source": [
    "use conductivity in bilinear-form:"
   ]
  },
  {
   "cell_type": "code",
   "execution_count": null,
   "metadata": {},
   "outputs": [],
   "source": [
    "a = BilinearForm(fes)\n",
    "a += lam*grad(u)*grad(v)*dx\n",
    "\n",
    "f = LinearForm(fes)\n",
    "f += 1*v*dx(\"source\")\n",
    "a.Assemble()\n",
    "f.Assemble()"
   ]
  },
  {
   "cell_type": "code",
   "execution_count": null,
   "metadata": {},
   "outputs": [],
   "source": [
    "reg = mesh.Materials(\"source|bar\")\n",
    "print (reg.VB(), reg.Mask())"
   ]
  },
  {
   "cell_type": "code",
   "execution_count": null,
   "metadata": {},
   "outputs": [],
   "source": [
    "gfu = GridFunction(fes)\n",
    "gfu.vec.data = a.mat.Inverse(fes.FreeDofs()) * f.vec\n",
    "Draw (gfu, mesh, \"temperature\")\n",
    "Draw (grad(gfu), mesh, \"gradient\")\n",
    "Draw (-lam*grad(gfu), mesh, \"heatflux\")"
   ]
  },
  {
   "cell_type": "code",
   "execution_count": null,
   "metadata": {},
   "outputs": [],
   "source": []
  },
  {
   "cell_type": "code",
   "execution_count": null,
   "metadata": {},
   "outputs": [],
   "source": []
  }
 ],
 "metadata": {
  "kernelspec": {
   "display_name": "Python 3",
   "language": "python",
   "name": "python3"
  },
  "language_info": {
   "codemirror_mode": {
    "name": "ipython",
    "version": 3
   },
   "file_extension": ".py",
   "mimetype": "text/x-python",
   "name": "python",
   "nbconvert_exporter": "python",
   "pygments_lexer": "ipython3",
   "version": "3.8.0"
  }
 },
 "nbformat": 4,
 "nbformat_minor": 2
}
