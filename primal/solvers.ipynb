{
 "cells": [
  {
   "cell_type": "markdown",
   "metadata": {},
   "source": [
    "Iterative Solvers\n",
    "===\n",
    "\n",
    "So far we have used direct solvers to solve the linear system of equations. Although a direct solver can profit from the sparse matrix, it's arithmetic complexity is sub-optimal. For large-scale problems iterative solvers are a must.\n",
    "\n",
    "The conjugate gradient (cg) method is the standard method for symmetric and positive definite matrices. It's convergence rate depends on a preconditioner, what is a cheap approximative inverse to the matrix."
   ]
  },
  {
   "cell_type": "code",
   "execution_count": 1,
   "metadata": {
    "collapsed": true
   },
   "outputs": [],
   "source": [
    "import netgen.gui\n",
    "from ngsolve import *\n",
    "%gui tk"
   ]
  },
  {
   "cell_type": "markdown",
   "metadata": {},
   "source": [
    "We generate a 3D geometry and mesh using the constructive solid geometry (CSG) modeler of Netgen:"
   ]
  },
  {
   "cell_type": "code",
   "execution_count": 4,
   "metadata": {
    "collapsed": true
   },
   "outputs": [],
   "source": [
    "from netgen.csg import *\n",
    "geo = CSGeometry()\n",
    "cube = OrthoBrick (Pnt(0,0,0), Pnt(1,1,1)).bc(\"outer\")\n",
    "cyl = Cylinder( Pnt(1,0.5,0.5), Pnt(0,0.5,0.5), 0.2).bc(\"inner\")\n",
    "geo.Add (cube-cyl, col=(0,0,1))\n",
    "geo.Draw()\n",
    "\n",
    "mesh = Mesh(geo.GenerateMesh(maxh=0.1))\n",
    "mesh.Refine()\n",
    "mesh.Refine()\n",
    "mesh.Curve(3)\n",
    "Draw (mesh)"
   ]
  },
  {
   "cell_type": "code",
   "execution_count": 33,
   "metadata": {},
   "outputs": [
    {
     "name": "stdout",
     "output_type": "stream",
     "text": [
      "we have 1560464 unknowns\n"
     ]
    }
   ],
   "source": [
    "fes = H1(mesh, order=3, dirichlet=\"outer\", flags = { \"wb_withoutedges\" : True })\n",
    "print (\"we have\", fes.ndof, \"unknowns\")\n",
    "u = fes.TrialFunction()\n",
    "v = fes.TestFunction()\n",
    "\n",
    "a = BilinearForm(fes)\n",
    "a += SymbolicBFI(grad(u)*grad(v))\n",
    "\n",
    "f = LinearForm(fes)\n",
    "f += SymbolicLFI(v)\n",
    "\n",
    "# c = Preconditioner(a, \"local\")\n",
    "# c = Preconditioner(a, \"direct\", inverse=\"sparsecholesky\")\n",
    "c = Preconditioner(a, \"bddc\")\n",
    "\n",
    "gfu = GridFunction(fes)"
   ]
  },
  {
   "cell_type": "markdown",
   "metadata": {},
   "source": [
    "assemble system and setup preconditioner in parallel:"
   ]
  },
  {
   "cell_type": "code",
   "execution_count": 34,
   "metadata": {
    "collapsed": true
   },
   "outputs": [],
   "source": [
    "ngsglobals.msg_level=5\n",
    "with TaskManager():\n",
    "    a.Assemble()\n",
    "    f.Assemble()"
   ]
  },
  {
   "cell_type": "markdown",
   "metadata": {},
   "source": [
    "solve the system using the preconditioned conjugate gradient method:"
   ]
  },
  {
   "cell_type": "code",
   "execution_count": 35,
   "metadata": {},
   "outputs": [
    {
     "name": "stdout",
     "output_type": "stream",
     "text": [
      "it =  0  err =  0.28712089056269846\n",
      "it =  1  err =  0.10749286926619053\n",
      "it =  2  err =  0.0875245365839895\n",
      "it =  3  err =  0.07039491341804938\n",
      "it =  4  err =  0.05077599365114589\n",
      "it =  5  err =  0.033603517159194594\n",
      "it =  6  err =  0.021700359704192092\n",
      "it =  7  err =  0.013913972568441308\n",
      "it =  8  err =  0.009417669959426134\n",
      "it =  9  err =  0.006567387116831617\n",
      "it =  10  err =  0.0044278314630172315\n",
      "it =  11  err =  0.0029178418259392202\n",
      "it =  12  err =  0.0019173542581778357\n",
      "it =  13  err =  0.001246346030212579\n",
      "it =  14  err =  0.0008156179258766829\n",
      "it =  15  err =  0.0005473087950712315\n",
      "it =  16  err =  0.0003759535430883519\n",
      "it =  17  err =  0.00025005667679434395\n",
      "it =  18  err =  0.00016339110772209167\n",
      "it =  19  err =  0.0001064800972764616\n",
      "it =  20  err =  6.98240463316107e-05\n",
      "it =  21  err =  4.651461183373913e-05\n",
      "it =  22  err =  3.114118853855814e-05\n",
      "it =  23  err =  2.082437386193466e-05\n",
      "it =  24  err =  1.3745449757482677e-05\n",
      "it =  25  err =  8.994920227547823e-06\n",
      "it =  26  err =  5.8573815336016075e-06\n",
      "it =  27  err =  3.806572865952305e-06\n",
      "it =  28  err =  2.501640573168261e-06\n",
      "it =  29  err =  1.6520825023709355e-06\n",
      "it =  30  err =  1.10477841311357e-06\n",
      "it =  31  err =  7.490521554072865e-07\n",
      "it =  32  err =  4.950367750435579e-07\n",
      "it =  33  err =  3.2743672720475016e-07\n",
      "it =  34  err =  2.148884977673757e-07\n",
      "it =  35  err =  1.38580483422122e-07\n",
      "it =  36  err =  9.039650078142654e-08\n",
      "it =  37  err =  5.896120992613808e-08\n",
      "it =  38  err =  3.823726751848288e-08\n",
      "it =  39  err =  2.486061778268902e-08\n",
      "it =  40  err =  1.642322920539994e-08\n",
      "it =  41  err =  1.076373793348258e-08\n",
      "it =  42  err =  6.975488394452879e-09\n",
      "it =  43  err =  4.510401361805661e-09\n",
      "it =  44  err =  2.932104691212979e-09\n",
      "it =  45  err =  1.90651324657114e-09\n",
      "it =  46  err =  1.2349800554827978e-09\n",
      "it =  47  err =  7.982349685514361e-10\n",
      "it =  48  err =  5.162286579032385e-10\n",
      "it =  49  err =  3.3227961290304287e-10\n",
      "it =  50  err =  2.150008399401293e-10\n",
      "it =  51  err =  1.4028015050771165e-10\n",
      "it =  52  err =  9.192378054197175e-11\n",
      "it =  53  err =  6.029178288032906e-11\n",
      "it =  54  err =  3.987442711070211e-11\n",
      "it =  55  err =  2.6003274128201832e-11\n",
      "it =  56  err =  1.6961778579357464e-11\n",
      "it =  57  err =  1.1426620647518124e-11\n",
      "it =  58  err =  8.175042060178383e-12\n",
      "it =  59  err =  5.606474726459723e-12\n",
      "it =  60  err =  3.622173931889426e-12\n",
      "it =  61  err =  2.345870455445092e-12\n",
      "it =  62  err =  1.5364000042040154e-12\n",
      "it =  63  err =  1.0083392794005125e-12\n",
      "it =  64  err =  6.526386327227361e-13\n",
      "it =  65  err =  4.1939501600193446e-13\n",
      "it =  66  err =  2.708786854560456e-13\n",
      "it =  67  err =  1.7530089778992485e-13\n",
      "it =  68  err =  1.140400061424431e-13\n",
      "it =  69  err =  7.355451631305628e-14\n",
      "it =  70  err =  4.761409063054013e-14\n",
      "it =  71  err =  3.0920359494158445e-14\n",
      "it =  72  err =  2.0192694026398032e-14\n",
      "it =  73  err =  1.3251151418145574e-14\n",
      "it =  74  err =  8.636322021080395e-15\n",
      "it =  75  err =  5.549067105606366e-15\n",
      "it =  76  err =  3.566843221897589e-15\n",
      "it =  77  err =  2.325089496008548e-15\n",
      "it =  78  err =  1.5313619767638992e-15\n",
      "it =  79  err =  1.001790143150432e-15\n",
      "it =  80  err =  6.488907804043085e-16\n",
      "it =  81  err =  4.1656853476289134e-16\n",
      "it =  82  err =  2.687991267161419e-16\n",
      "it =  83  err =  1.7682596147391957e-16\n",
      "it =  84  err =  1.1796175554232023e-16\n"
     ]
    }
   ],
   "source": [
    "from ngsolve.solvers import CG\n",
    "\n",
    "with TaskManager():\n",
    "    CG (mat=a.mat, pre=c.mat, rhs=f.vec, sol=gfu.vec, \n",
    "        printrates=True, maxsteps=200)\n",
    "Draw(gfu)"
   ]
  },
  {
   "cell_type": "code",
   "execution_count": null,
   "metadata": {
    "collapsed": true
   },
   "outputs": [],
   "source": []
  }
 ],
 "metadata": {
  "kernelspec": {
   "display_name": "Python 3",
   "language": "python",
   "name": "python3"
  },
  "language_info": {
   "codemirror_mode": {
    "name": "ipython",
    "version": 3
   },
   "file_extension": ".py",
   "mimetype": "text/x-python",
   "name": "python",
   "nbconvert_exporter": "python",
   "pygments_lexer": "ipython3",
   "version": "3.6.2"
  }
 },
 "nbformat": 4,
 "nbformat_minor": 2
}
