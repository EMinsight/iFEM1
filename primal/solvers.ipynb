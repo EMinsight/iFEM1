{
 "cells": [
  {
   "cell_type": "markdown",
   "metadata": {},
   "source": [
    "Iterative Solvers\n",
    "===\n",
    "\n",
    "So far we have used direct solvers to solve the linear system of equations. Although a direct solver can profit from the sparse matrix, it's arithmetic complexity is sub-optimal. For large-scale problems iterative solvers are a must.\n",
    "\n",
    "The conjugate gradient (cg) method is the standard method for symmetric and positive definite matrices. It's convergence rate depends on a preconditioner, what is a cheap approximative inverse to the matrix."
   ]
  },
  {
   "cell_type": "code",
   "execution_count": 1,
   "metadata": {
    "collapsed": true
   },
   "outputs": [],
   "source": [
    "import netgen.gui\n",
    "from ngsolve import *\n",
    "%gui tk"
   ]
  },
  {
   "cell_type": "markdown",
   "metadata": {},
   "source": [
    "We generate a 3D geometry and mesh using the constructive solid geometry (CSG) modeler of Netgen:"
   ]
  },
  {
   "cell_type": "code",
   "execution_count": 17,
   "metadata": {
    "collapsed": true
   },
   "outputs": [],
   "source": [
    "from netgen.csg import *\n",
    "geo = CSGeometry()\n",
    "cube = OrthoBrick (Pnt(0,0,0), Pnt(1,1,1)).bc(\"outer\")\n",
    "cyl = Cylinder( Pnt(1,0.5,0.5), Pnt(0,0.5,0.5), 0.2).bc(\"inner\")\n",
    "geo.Add (cube-cyl, col=(0,0,1))\n",
    "geo.Draw()\n",
    "\n",
    "mesh = Mesh(geo.GenerateMesh(maxh=0.1))\n",
    "mesh.Refine()\n",
    "mesh.Refine()\n",
    "mesh.Curve(3)\n",
    "Draw (mesh)"
   ]
  },
  {
   "cell_type": "code",
   "execution_count": 18,
   "metadata": {},
   "outputs": [
    {
     "name": "stdout",
     "output_type": "stream",
     "text": [
      "we have 1560464 unknowns\n"
     ]
    }
   ],
   "source": [
    "fes = H1(mesh, order=3, dirichlet=\"outer\", flags = { \"wb_withoutedges\" : True })\n",
    "print (\"we have\", fes.ndof, \"unknowns\")\n",
    "u = fes.TrialFunction()\n",
    "v = fes.TestFunction()\n",
    "\n",
    "a = BilinearForm(fes)\n",
    "a += SymbolicBFI(grad(u)*grad(v))\n",
    "\n",
    "f = LinearForm(fes)\n",
    "f += SymbolicLFI(v)\n",
    "\n",
    "# c = Preconditioner(a, \"local\")\n",
    "# c = Preconditioner(a, \"direct\", inverse=\"sparsecholesky\")\n",
    "c = Preconditioner(a, \"bddc\")\n",
    "\n",
    "gfu = GridFunction(fes)"
   ]
  },
  {
   "cell_type": "markdown",
   "metadata": {},
   "source": [
    "assemble system and setup preconditioner in parallel:"
   ]
  },
  {
   "cell_type": "code",
   "execution_count": 19,
   "metadata": {
    "collapsed": true
   },
   "outputs": [],
   "source": [
    "ngsglobals.msg_level=5\n",
    "with TaskManager():\n",
    "    a.Assemble()\n",
    "    f.Assemble()"
   ]
  },
  {
   "cell_type": "markdown",
   "metadata": {},
   "source": [
    "solve the system using the preconditioned conjugate gradient method:"
   ]
  },
  {
   "cell_type": "code",
   "execution_count": 20,
   "metadata": {},
   "outputs": [
    {
     "name": "stdout",
     "output_type": "stream",
     "text": [
      "it =  0  err =  0.28712089056269857\n",
      "it =  1  err =  0.10749286926619048\n",
      "it =  2  err =  0.08752453658398944\n",
      "it =  3  err =  0.07039491341804943\n",
      "it =  4  err =  0.050775993651145934\n",
      "it =  5  err =  0.03360351715919446\n",
      "it =  6  err =  0.021700359704191954\n",
      "it =  7  err =  0.01391397256844124\n",
      "it =  8  err =  0.009417669959426115\n",
      "it =  9  err =  0.006567387116831614\n",
      "it =  10  err =  0.004427831463017223\n",
      "it =  11  err =  0.00291784182593921\n",
      "it =  12  err =  0.0019173542581778205\n",
      "it =  13  err =  0.0012463460302125549\n",
      "it =  14  err =  0.0008156179258766549\n",
      "it =  15  err =  0.0005473087950712046\n",
      "it =  16  err =  0.0003759535430883341\n",
      "it =  17  err =  0.0002500566767943354\n",
      "it =  18  err =  0.00016339110772208647\n",
      "it =  19  err =  0.00010648009727645814\n",
      "it =  20  err =  6.982404633160817e-05\n",
      "it =  21  err =  4.651461183373725e-05\n",
      "it =  22  err =  3.1141188538556944e-05\n",
      "it =  23  err =  2.0824373861934208e-05\n",
      "it =  24  err =  1.3745449757482554e-05\n",
      "it =  25  err =  8.994920227547768e-06\n",
      "it =  26  err =  5.857381533601547e-06\n",
      "it =  27  err =  3.8065728659522453e-06\n",
      "it =  28  err =  2.501640573168222e-06\n",
      "it =  29  err =  1.6520825023709086e-06\n",
      "it =  30  err =  1.10477841311355e-06\n",
      "it =  31  err =  7.490521554072765e-07\n",
      "it =  32  err =  4.95036775043551e-07\n",
      "it =  33  err =  3.274367272047443e-07\n",
      "it =  34  err =  2.148884977673723e-07\n",
      "it =  35  err =  1.3858048342211997e-07\n",
      "it =  36  err =  9.039650078142514e-08\n",
      "it =  37  err =  5.896120992613736e-08\n",
      "it =  38  err =  3.823726751848247e-08\n",
      "it =  39  err =  2.4860617782688666e-08\n",
      "it =  40  err =  1.6423229205399532e-08\n",
      "it =  41  err =  1.0763737933481937e-08\n",
      "it =  42  err =  6.975488394451344e-09\n",
      "it =  43  err =  4.5104013618003205e-09\n",
      "it =  44  err =  2.9321046911932e-09\n",
      "it =  45  err =  1.906513246497213e-09\n",
      "it =  46  err =  1.2349800552004566e-09\n",
      "it =  47  err =  7.982349674314136e-10\n",
      "it =  48  err =  5.162286534738501e-10\n",
      "it =  49  err =  3.322795948079045e-10\n",
      "it =  50  err =  2.1500076292179156e-10\n",
      "it =  51  err =  1.4027984322623356e-10\n",
      "it =  52  err =  9.192268285097925e-11\n",
      "it =  53  err =  6.028822082501761e-11\n",
      "it =  54  err =  3.9864155271343164e-11\n",
      "it =  55  err =  2.59741410392617e-11\n",
      "it =  56  err =  1.6865869077916778e-11\n",
      "it =  57  err =  1.1136461129312262e-11\n",
      "it =  58  err =  7.72154874874914e-12\n",
      "it =  59  err =  5.507653066029578e-12\n",
      "it =  60  err =  3.650338419462287e-12\n",
      "it =  61  err =  2.353028651538414e-12\n",
      "it =  62  err =  1.5374341438588528e-12\n",
      "it =  63  err =  1.0084961276310357e-12\n",
      "it =  64  err =  6.526604304036986e-13\n",
      "it =  65  err =  4.193973669619146e-13\n",
      "it =  66  err =  2.708789157622026e-13\n",
      "it =  67  err =  1.7530092049022e-13\n",
      "it =  68  err =  1.1404000860178633e-13\n",
      "it =  69  err =  7.355451656536776e-14\n",
      "it =  70  err =  4.7614090635151447e-14\n",
      "it =  71  err =  3.092035944154191e-14\n",
      "it =  72  err =  2.0192693889912887e-14\n",
      "it =  73  err =  1.3251151122739894e-14\n",
      "it =  74  err =  8.636321414435285e-15\n",
      "it =  75  err =  5.549065666567121e-15\n",
      "it =  76  err =  3.5668391345084935e-15\n",
      "it =  77  err =  2.3250778920479688e-15\n",
      "it =  78  err =  1.5313351847257222e-15\n",
      "it =  79  err =  1.001735822953301e-15\n",
      "it =  80  err =  6.48776285332481e-16\n",
      "it =  81  err =  4.162715532669589e-16\n",
      "it =  82  err =  2.6794415394069244e-16\n",
      "it =  83  err =  1.7449710820128256e-16\n",
      "it =  84  err =  1.1271740775005696e-16\n"
     ]
    }
   ],
   "source": [
    "from ngsolve.solvers import CG\n",
    "\n",
    "with TaskManager():\n",
    "    CG (mat=a.mat, pre=c.mat, rhs=f.vec, sol=gfu.vec, \n",
    "        printrates=True, maxsteps=200)\n",
    "Draw(gfu)"
   ]
  },
  {
   "cell_type": "code",
   "execution_count": null,
   "metadata": {
    "collapsed": true
   },
   "outputs": [],
   "source": []
  }
 ],
 "metadata": {
  "kernelspec": {
   "display_name": "Python 3",
   "language": "python",
   "name": "python3"
  },
  "language_info": {
   "codemirror_mode": {
    "name": "ipython",
    "version": 3
   },
   "file_extension": ".py",
   "mimetype": "text/x-python",
   "name": "python",
   "nbconvert_exporter": "python",
   "pygments_lexer": "ipython3",
   "version": "3.6.2"
  }
 },
 "nbformat": 4,
 "nbformat_minor": 2
}
