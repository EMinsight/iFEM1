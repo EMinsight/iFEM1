{
 "cells": [
  {
   "cell_type": "markdown",
   "id": "pointed-columbus",
   "metadata": {},
   "source": [
    "FETI methods\n",
    "===\n",
    "\n",
    "Finite Element Tearing and Interconnection"
   ]
  },
  {
   "cell_type": "code",
   "execution_count": null,
   "id": "empirical-brunei",
   "metadata": {},
   "outputs": [],
   "source": [
    "from ngsolve import *\n",
    "from ngsolve.webgui import Draw\n",
    "from netgen.geom2d import CSG2d, Rectangle\n",
    "\n",
    "geo = CSG2d()\n",
    "\n",
    "mx, my = 3,3\n",
    "for i in range(mx): \n",
    "    for j in range(my):\n",
    "        rect = Rectangle(pmin=(i/mx,j/my), \\\n",
    "                         pmax=((i+1)/mx,(j+1)/mx), \\\n",
    "                         mat='mat'+str(i)+str(j), \\\n",
    "                         bc = 'default', \\\n",
    "                         bottom = 'bot' if j == 0 else None)\n",
    "                  \n",
    "        geo.Add(rect)\n",
    "        \n",
    "mesh = Mesh(geo.GenerateMesh(maxh=0.05))\n",
    "print (mesh.GetMaterials())\n",
    "print (mesh.GetBoundaries())\n",
    "Draw (mesh);"
   ]
  },
  {
   "cell_type": "code",
   "execution_count": null,
   "id": "smaller-victor",
   "metadata": {},
   "outputs": [],
   "source": [
    "fes = None\n",
    "for dom in mesh.Materials('.*').Split():\n",
    "    fesi = Compress(H1(mesh, definedon=dom, dirichlet=\"bot\"))\n",
    "    fes = fes * fesi if fes else fesi\n",
    "\n",
    "for inter in mesh.Boundaries('.*').Split():\n",
    "    doms = inter.Neighbours(VOL)\n",
    "    # print (doms.Split())\n",
    "    \n",
    "print (\"ndof =\", fes.ndof)\n",
    "\n",
    "u, v = fes.TnT()\n",
    "\n",
    "domtrial = {} \n",
    "domtest = {}\n",
    "for nr,dom in enumerate (mesh.Materials('.*').Split()):\n",
    "    domtrial[dom] = u[nr]\n",
    "    domtest[dom] = v[nr]"
   ]
  },
  {
   "cell_type": "code",
   "execution_count": null,
   "id": "desperate-cleaner",
   "metadata": {},
   "outputs": [],
   "source": [
    "a = BilinearForm(fes)\n",
    "f = LinearForm(fes)\n",
    "\n",
    "for (ui,vi) in zip(u,v):\n",
    "    a += grad(ui)*grad(vi)*dx + ui*vi*dx\n",
    "    f += y*vi*dx\n",
    "    \n",
    "\n",
    "for inter in mesh.Boundaries('.*').Split():\n",
    "    doms = inter.Neighbours(VOL).Split()\n",
    "    if len(doms) == 2:\n",
    "        dom1,dom2 = doms\n",
    "        a += 100*(domtrial[dom1]-domtrial[dom2])*(domtest[dom1]-domtest[dom2])*ds(inter)\n",
    "        \n",
    "a.Assemble()\n",
    "f.Assemble()\n",
    "gfu = GridFunction(fes)\n",
    "gfu.vec.data = a.mat.Inverse(inverse=\"sparsecholesky\", freedofs=fes.FreeDofs())*f.vec"
   ]
  },
  {
   "cell_type": "code",
   "execution_count": null,
   "id": "allied-correlation",
   "metadata": {},
   "outputs": [],
   "source": [
    "gftot = CF ( list(gfu.components) )\n",
    "Draw(gftot, mesh)"
   ]
  },
  {
   "cell_type": "code",
   "execution_count": null,
   "id": "dressed-passion",
   "metadata": {},
   "outputs": [],
   "source": [
    "print (gfu.components)"
   ]
  },
  {
   "cell_type": "code",
   "execution_count": null,
   "id": "competent-patrol",
   "metadata": {},
   "outputs": [],
   "source": []
  }
 ],
 "metadata": {
  "kernelspec": {
   "display_name": "Python 3",
   "language": "python",
   "name": "python3"
  },
  "language_info": {
   "codemirror_mode": {
    "name": "ipython",
    "version": 3
   },
   "file_extension": ".py",
   "mimetype": "text/x-python",
   "name": "python",
   "nbconvert_exporter": "python",
   "pygments_lexer": "ipython3",
   "version": "3.9.5"
  }
 },
 "nbformat": 4,
 "nbformat_minor": 5
}
