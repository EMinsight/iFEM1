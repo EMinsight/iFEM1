{
 "cells": [
  {
   "cell_type": "markdown",
   "id": "identical-width",
   "metadata": {},
   "source": [
    "Multi-level Extension\n",
    "==="
   ]
  },
  {
   "cell_type": "code",
   "execution_count": null,
   "id": "completed-bargain",
   "metadata": {},
   "outputs": [],
   "source": [
    "from ngsolve import *\n",
    "from netgen.geom2d import unit_square\n",
    "from ngsolve.webgui import Draw"
   ]
  },
  {
   "cell_type": "code",
   "execution_count": null,
   "id": "growing-dominant",
   "metadata": {},
   "outputs": [],
   "source": [
    "mesh = Mesh(unit_square.GenerateMesh(maxh=0.3))\n",
    "fes = H1(mesh, order=1, dirichlet=\"left|bottom\", autoupdate=True)\n",
    "u,v = fes.TnT()\n",
    "gfu = GridFunction(fes, autoupdate=True)\n",
    "\n",
    "for i in range(3):\n",
    "    mesh.Refine()\n",
    "\n",
    "a = BilinearForm(grad(u)*grad(v)*dx).Assemble()"
   ]
  },
  {
   "cell_type": "code",
   "execution_count": null,
   "id": "electronic-permission",
   "metadata": {},
   "outputs": [],
   "source": [
    "class MLExtension:\n",
    "    def __init__ (self, fes, level, bndmass, dofs):\n",
    "        self.fes = fes\n",
    "        self.level = level\n",
    "        self.bndmass = bndmass\n",
    "        self.dofs = dofs\n",
    "        \n",
    "        ones = bndmass.CreateRowVector()\n",
    "        ones[:] = 1\n",
    "        Mones = (bndmass*ones).Evaluate()\n",
    "        self.inv = DiagonalMatrix(Mones).Inverse(dofs)\n",
    "        \n",
    "        if level > 0:\n",
    "            self.prol = fes.Prolongation().CreateMatrix(level)\n",
    "            self.rest = self.prol.CreateTranspose()\n",
    "            coarsebndmass = self.rest @ bndmass @ self.prol # multiply matrices\n",
    "            coarsedofs = BitArray(self.prol.width)\n",
    "            coarsedofs[:] = False\n",
    "            for i in range(len(coarsedofs)):\n",
    "                coarsedofs[i] = dofs[i]\n",
    "            self.coarseext = MLExtension(fes, level-1, coarsebndmass, coarsedofs)\n",
    "        \n",
    "    def Extend (self, x):\n",
    "        Mx = (self.bndmass * x).Evaluate()\n",
    "        x.data = self.ExtendRec(Mx)\n",
    "        \n",
    "    def ExtendRec (self, Mx):\n",
    "        sol = (self.inv * Mx).Evaluate()\n",
    "        if self.level == 0:\n",
    "            return sol\n",
    "        \n",
    "        if self.level > 0:\n",
    "            self.fes.Prolongation().Restrict(self.level, Mx)\n",
    "            xc = self.coarseext.ExtendRec(Mx)\n",
    "            pxc = (self.fes.Prolongation().Operator(self.level) * xc).Evaluate()\n",
    "            \n",
    "        pxc[self.dofs] = sol\n",
    "        return pxc"
   ]
  },
  {
   "cell_type": "code",
   "execution_count": null,
   "id": "advance-wages",
   "metadata": {
    "scrolled": false
   },
   "outputs": [],
   "source": [
    "bnd = mesh.Boundaries(\"left|bottom\")\n",
    "gfu.Set (1-x-y+0.3*sin(30*x), definedon=bnd)\n",
    "\n",
    "Draw (gfu)\n",
    "print (\"Norm(u) = \", InnerProduct((a.mat*gfu.vec).Evaluate(), gfu.vec))\n",
    "\n",
    "bndmass = BilinearForm(u*v*ds(bnd)).Assemble().mat\n",
    "ext = MLExtension(fes, fes.mesh.levels-1, bndmass, fes.GetDofs(bnd))\n",
    "ext.Extend(gfu.vec)\n",
    "\n",
    "Draw (gfu)\n",
    "print (\"Norm(uext) = \", InnerProduct(a.mat*gfu.vec, gfu.vec))"
   ]
  },
  {
   "cell_type": "code",
   "execution_count": null,
   "id": "regulated-spiritual",
   "metadata": {},
   "outputs": [],
   "source": []
  },
  {
   "cell_type": "code",
   "execution_count": null,
   "id": "considerable-better",
   "metadata": {},
   "outputs": [],
   "source": []
  }
 ],
 "metadata": {
  "kernelspec": {
   "display_name": "Python 3",
   "language": "python",
   "name": "python3"
  },
  "language_info": {
   "codemirror_mode": {
    "name": "ipython",
    "version": 3
   },
   "file_extension": ".py",
   "mimetype": "text/x-python",
   "name": "python",
   "nbconvert_exporter": "python",
   "pygments_lexer": "ipython3",
   "version": "3.9.4"
  }
 },
 "nbformat": 4,
 "nbformat_minor": 5
}
