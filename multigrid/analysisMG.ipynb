{
 "cells": [
  {
   "cell_type": "markdown",
   "id": "marine-fence",
   "metadata": {},
   "source": [
    "Analysis of the multigrid iteration\n",
    "===\n",
    "\n",
    "(work in progress)"
   ]
  },
  {
   "cell_type": "markdown",
   "id": "italic-death",
   "metadata": {},
   "source": [
    "**Lemma [Approximation property]** \n",
    "\n",
    "$$\n",
    "\\| (I - \\Pi_{l-1}) u \\|_{D_l}^2 \\leq C \\, \\| (I - \\Pi_{l-1}) u \\|_{A_l}^2\n",
    "$$\n"
   ]
  },
  {
   "cell_type": "markdown",
   "id": "broad-transport",
   "metadata": {},
   "source": [
    "**Lemma [Smoothing property]**\n",
    "$$\n",
    "\\| (I - D^{-1} A)^m u \\|_{A D^{-1} A}^2 \\leq \\frac{1}{2m+1} \\| u \\|_A^2\n",
    "$$\n",
    "\n",
    "*Proof:* Expanding $u$ in the eigensystem of $A z = \\lambda D z$ we can reformulate the inequality as\n",
    "$$\n",
    "\\sum \\lambda_i^2 (1 - \\lambda_i)^2 u_i^2 \\leq \\frac{2}{m} \\sum \\lambda_i^2 u_i^2\n",
    "$$\n",
    "\n",
    "The estimate follows from calculating\n",
    "\n",
    "$$\n",
    "\\max_{\\lambda \\in [0,1]} \\lambda (1-\\lambda)^{2m}\n",
    "$$\n",
    "\n",
    "**Lemma [Improved smoothing property]**\n",
    "\n",
    "$$\n",
    "\\| (I - D^{-1} A)^m u \\|_{A D^{-1} A}^2 \\leq \\frac{1}{2m} \\left( \\| u \\|_A^2 - \\| (I-D^{-1} A)^m u \\|_A^2 \\right)\n",
    "$$\n"
   ]
  },
  {
   "cell_type": "markdown",
   "id": "secondary-quarterly",
   "metadata": {},
   "source": [
    "**Theorem**\n",
    "$$\n",
    "\\| M_l \\|_A \\leq \\delta \n",
    "$$\n",
    "with \n",
    "$$\n",
    "\\delta = \\frac{C}{C+2m} < 1\n",
    "$$\n",
    "\n",
    "*Proof*:\n",
    "\\begin{eqnarray*}\n",
    "(M_l u, u)_A & = & \\big( S_l^m (I - P_l C_{l-1}^{-1} P_l^T A_l) S_l^m u, u \\big)_A \\\\\n",
    "& = & \\big( (I - P C_{l-1}^{-1} P^T A_l) S_l^m u, S_l^m u \\big)_A \\\\\n",
    "& = & \\big( (I - P (I-M_{l-1}) A_{l-1}^{-1} P^T A_l) S_l^m u, S_l^m u)_A \\\\\n",
    "& = & ((I-P_l A_{l-1}^{-1} P_l^T A_l) S_l^m u, S_l^m u) \\\\\n",
    "  & & \\quad + (P M_{l-1} A_{l-1}^{-1} P^T A_l S_l^m u, S_l^m u) \\\\\n",
    " & = & \\| (I-\\Pi_{l-1}) S_l^m u \\|_A^2 + (M_{l-1} \\Pi_{l-1} S_l^m u, \\Pi_{l-1} S_l^m u)\n",
    "\\end{eqnarray*}\n",
    "We use the induction assumption on $\\| M_{l-1} \\|$:\n",
    "\n",
    "\\begin{eqnarray*}\n",
    "(M_l u, u)_A & \\leq & (I-\\Pi_{l-1}) S_l^m u, S_l^m u)_A^2 + \\delta \\, ( \\Pi_{l-1} S_l^m u, S_l^m u) \\\\\n",
    "& = & (1-\\delta) \\big( (I-\\Pi_{l-1}) S_l^m u, S_l^m u \\big)_A^2 + \\delta \\, ( S_l^m u, S_l^m u) \n",
    "\\end{eqnarray*}\n",
    "\n",
    "We continue with the first term\n",
    "\n",
    "\\begin{eqnarray*}\n",
    "\\| (I-\\Pi_{l-1}) S_l^m u \\|_A^2\n",
    "& = & \n",
    "\\big( (I-\\Pi_{l-1}) S_l^m u, S_l^m u \\big)_A \\\\\n",
    "& = & \n",
    "\\big( (I-\\Pi_{l-1}) S_l^m u, D_l^{-1} A_l S_l^m u \\big)_{D_l} \\\\\n",
    "& \\leq & \\| (I-\\Pi_{l-1}) S_l^m u \\|_{D_l} \\| S_l^m u \\|_{AD^{-1} A} \\\\\n",
    "& \\leq & \\sqrt{C}  \\| (I-\\Pi_{l-1}) S_l^m u \\|_A  \\sqrt{\\frac{1}{1+2m}} \\| u \\|_A\n",
    "\\end{eqnarray*}\n",
    "\n",
    "Dividing by one factor $\\| (I-\\Pi_{l-1}) S_l^m u \\|_A$ we get\n",
    "\n",
    "$$\n",
    "\\| (I-\\Pi_{l-1}) S_l^m u \\|_A^2 \\leq \\frac{C}{1+2m} \\| u \\|_{A}^2\n",
    "$$\n",
    "\n",
    "\n"
   ]
  },
  {
   "cell_type": "code",
   "execution_count": null,
   "id": "express-chuck",
   "metadata": {},
   "outputs": [],
   "source": []
  }
 ],
 "metadata": {
  "kernelspec": {
   "display_name": "Python 3",
   "language": "python",
   "name": "python3"
  },
  "language_info": {
   "codemirror_mode": {
    "name": "ipython",
    "version": 3
   },
   "file_extension": ".py",
   "mimetype": "text/x-python",
   "name": "python",
   "nbconvert_exporter": "python",
   "pygments_lexer": "ipython3",
   "version": "3.9.4"
  }
 },
 "nbformat": 4,
 "nbformat_minor": 5
}
