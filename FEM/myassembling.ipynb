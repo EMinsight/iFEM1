{
 "cells": [
  {
   "cell_type": "markdown",
   "id": "a414419e",
   "metadata": {},
   "source": [
    "# Implement our own system assembling\n",
    "\n",
    "In this tutorial we\n",
    "\n",
    "* write integrators for $\\int_T f v dx$ and $\\int_T \\nabla u \\nabla v dx$: \n",
    "* put together element matrices to the global system matrix: \n",
    "\n",
    "\n",
    "The implementation is available on github: \n",
    "[https://github.com/TUWien-ASC/NGS-myassembling](https://github.com/TUWien-ASC/NGS-myassembling)\n",
    "\n"
   ]
  },
  {
   "cell_type": "code",
   "execution_count": 1,
   "id": "c4b193bd",
   "metadata": {},
   "outputs": [
    {
     "name": "stdout",
     "output_type": "stream",
     "text": [
      "Loading myassembling library\n"
     ]
    },
    {
     "data": {
      "text/plain": [
       "['MyAssembleMatrix',\n",
       " 'MyLaplace',\n",
       " 'MySource',\n",
       " '__doc__',\n",
       " '__file__',\n",
       " '__loader__',\n",
       " '__name__',\n",
       " '__package__',\n",
       " '__spec__']"
      ]
     },
     "execution_count": 1,
     "metadata": {},
     "output_type": "execute_result"
    }
   ],
   "source": [
    "from ngsolve import *\n",
    "from ngsolve.webgui import Draw\n",
    "import myassembling\n",
    "dir (myassembling)"
   ]
  },
  {
   "cell_type": "code",
   "execution_count": 2,
   "id": "60e4a72f",
   "metadata": {},
   "outputs": [],
   "source": [
    "mesh = Mesh(unit_square.GenerateMesh(maxh=0.2))\n",
    "fes = H1(mesh, order=1, dirichlet=\".*\")\n",
    "u, v = fes.TnT()"
   ]
  },
  {
   "cell_type": "markdown",
   "id": "1fa4740b",
   "metadata": {},
   "source": [
    "### use our own integrators for element matrix calculation:"
   ]
  },
  {
   "cell_type": "code",
   "execution_count": 3,
   "id": "725ad55e",
   "metadata": {},
   "outputs": [],
   "source": [
    "a = BilinearForm(fes)\n",
    "a += myassembling.MyLaplace(1)\n",
    "a.Assemble()\n",
    "\n",
    "f = LinearForm(fes)\n",
    "f += myassembling.MySource(x)\n",
    "f.Assemble();"
   ]
  },
  {
   "cell_type": "code",
   "execution_count": 4,
   "id": "50298a90",
   "metadata": {},
   "outputs": [
    {
     "data": {
      "application/vnd.jupyter.widget-view+json": {
       "model_id": "8ac8157af3ad4c91b4ed5221392ee1fd",
       "version_major": 2,
       "version_minor": 0
      },
      "text/plain": [
       "WebGuiWidget(layout=Layout(height='50vh', width='100%'), value={'gui_settings': {}, 'ngsolve_version': '6.2.24…"
      ]
     },
     "metadata": {},
     "output_type": "display_data"
    }
   ],
   "source": [
    "gfu = GridFunction(fes)\n",
    "gfu.vec.data = a.mat.Inverse(fes.FreeDofs()) * f.vec\n",
    "Draw (gfu);"
   ]
  },
  {
   "cell_type": "markdown",
   "id": "128cbd62",
   "metadata": {},
   "source": [
    "### we can inspect the element matrix:"
   ]
  },
  {
   "cell_type": "code",
   "execution_count": 5,
   "id": "3e7a0cc0",
   "metadata": {},
   "outputs": [
    {
     "data": {
      "text/plain": [
       " 0.665986 -0.426433 -0.239553\n",
       " -0.426433 0.648429 -0.221997\n",
       " -0.239553 -0.221997 0.46155"
      ]
     },
     "execution_count": 5,
     "metadata": {},
     "output_type": "execute_result"
    }
   ],
   "source": [
    "mylap = myassembling.MyLaplace(1)\n",
    "ei = ElementId(VOL,17)\n",
    "mylap.CalcElementMatrix(fes.GetFE(ei), mesh.GetTrafo(ei))"
   ]
  },
  {
   "cell_type": "markdown",
   "id": "e29c09cd",
   "metadata": {},
   "source": [
    "### use our own matrix assembling function:"
   ]
  },
  {
   "cell_type": "code",
   "execution_count": null,
   "id": "913a79f2",
   "metadata": {},
   "outputs": [],
   "source": [
    "for l in range(4): mesh.Refine()\n",
    "fes.Update()\n",
    "gfu.Update()\n",
    "f.Assemble();"
   ]
  },
  {
   "cell_type": "code",
   "execution_count": null,
   "id": "ac605f67",
   "metadata": {},
   "outputs": [],
   "source": [
    "mymatrix = myassembling.MyAssembleMatrix(fes, myassembling.MyLaplace(CF(1)))\n",
    "\n",
    "if fes.ndof < 100000:\n",
    "    gfu.vec.data = mymatrix.Inverse(fes.FreeDofs()) * f.vec\n",
    "    Draw (gfu);"
   ]
  },
  {
   "cell_type": "markdown",
   "id": "bf5a0ed7",
   "metadata": {},
   "source": [
    "### Exercise:\n",
    "\n",
    "\n",
    "   * Implement `MyAssembleVector` for building the right hand side vector for  $\\int_\\Omega f v \\, dx$\n",
    "   * Implement `MyNeumannIntegrator` for evaluating $\\int_{\\partial \\Omega} g v \\, ds$"
   ]
  },
  {
   "cell_type": "code",
   "execution_count": null,
   "id": "b265cde3",
   "metadata": {},
   "outputs": [],
   "source": []
  }
 ],
 "metadata": {
  "kernelspec": {
   "display_name": "Python 3 (ipykernel)",
   "language": "python",
   "name": "python3"
  },
  "language_info": {
   "codemirror_mode": {
    "name": "ipython",
    "version": 3
   },
   "file_extension": ".py",
   "mimetype": "text/x-python",
   "name": "python",
   "nbconvert_exporter": "python",
   "pygments_lexer": "ipython3",
   "version": "3.12.2"
  }
 },
 "nbformat": 4,
 "nbformat_minor": 5
}
