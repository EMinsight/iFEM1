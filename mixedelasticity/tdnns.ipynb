{
 "cells": [
  {
   "cell_type": "markdown",
   "metadata": {},
   "source": [
    "$\\DeclareMathOperator{\\opdiv}{div}$\n",
    "Tangential displacement normal normal stress continuous finite elements\n",
    "==="
   ]
  },
  {
   "cell_type": "markdown",
   "metadata": {
    "collapsed": true
   },
   "source": [
    "Degrees of freedom for the TDNNS methods:\n",
    "    \n",
    "* tangential component of displacement vector\n",
    "* normal-normal component of stress tensor\n",
    "\n",
    "\n",
    "Three dofs on one edge fix rigid body modes:\n",
    "\n",
    "<img src=\"trig_dofs.pdf\" width=\"200\"> \n",
    "\n",
    "\n",
    "\n",
    "Six dofs on one face of a tet fix rigid body modes:\n",
    "<img src=\"tet_dofs.pdf\" width=\"200\"> \n",
    "\n",
    "\n",
    "Quadrilateral element:\n",
    "<img src=\"quad_dofs.pdf\" width=\"300\"> \n",
    "\n",
    "The dofs decouple into stretching components\n",
    "<img src=\"quad_dofs_stretching.pdf\" width=\"400\"> \n",
    "\n",
    "and bending components\n",
    "<img src=\"quad_dofs_bending.pdf\" width=\"350\"> \n",
    "\n"
   ]
  },
  {
   "cell_type": "markdown",
   "metadata": {
    "collapsed": true
   },
   "source": [
    "The divergence of $nn$-continuous piece-wise smooth functions:\n",
    "---\n",
    "    \n",
    "Let $\\sigma$ be a $nn$-continuous finite element function, and $f = \\opdiv \\sigma$ be the distributional divergence, i.e.\n",
    "\\begin{eqnarray*}\n",
    "<f, \\varphi> & = &-\\int \\sigma : \\nabla \\varphi \\\\\n",
    " & = & -\\sum_T \\int_T \\sigma : \\nabla \\varphi = \\sum_T \\int_T \\opdiv \\sigma - \\int_{\\partial T} \\sigma_n \\varphi \\\\\n",
    " & = & \\sum_T \\int_T \\opdiv \\sigma \\varphi - \\sum_E \\int_E [\\sigma_n] \\varphi \\\\\n",
    " & = & \\sum_T \\int_T \\opdiv \\sigma \\varphi - \\sum_E \\int_E [\\sigma_{nt}] \\varphi_t\n",
    "\\end{eqnarray*}\n",
    "\n",
    "We have observed that the distribution $f$ consists of element-terms and facet-terms:\n",
    "\n",
    "\\begin{eqnarray*}\n",
    "f_T & = & \\opdiv_T \\sigma \\\\\n",
    "f_E & = & [\\sigma_{nt}] \\qquad \\text{vector in tangential space}\n",
    "\\end{eqnarray*}\n"
   ]
  },
  {
   "cell_type": "code",
   "execution_count": null,
   "metadata": {
    "collapsed": true
   },
   "outputs": [],
   "source": []
  }
 ],
 "metadata": {
  "kernelspec": {
   "display_name": "Python 3",
   "language": "python",
   "name": "python3"
  },
  "language_info": {
   "codemirror_mode": {
    "name": "ipython",
    "version": 3
   },
   "file_extension": ".py",
   "mimetype": "text/x-python",
   "name": "python",
   "nbconvert_exporter": "python",
   "pygments_lexer": "ipython3",
   "version": "3.6.2"
  }
 },
 "nbformat": 4,
 "nbformat_minor": 2
}
