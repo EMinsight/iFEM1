{
 "cells": [
  {
   "cell_type": "markdown",
   "id": "advisory-sugar",
   "metadata": {},
   "source": [
    "Parameter Dependent Problems\n",
    "===\n",
    "\n",
    "We have observed that adding the constraint to the A-block may improve the convergence of saddle-point solvers. If we add the constraint with a large factor $1/\\varepsilon$, we may consider the augmented problem as penalty formulation for the constrained minimization problem, and skip the second equation and the Lagrange parameter completely. We call this a parameter dependent problem:\n",
    "\n",
    "$$\n",
    "\\big(A + \\frac{1}{\\varepsilon} B^T C^{-1} B \\big) u = f\n",
    "$$\n",
    "\n",
    "Let $V_0 = \\operatorname{ker} B$ the null-space of the $B$-matrix. \n",
    "\n",
    "On the null-space $V_0$ only the $A$-operator is seen. On its complement $V_0^\\bot$, the second part $\\frac{1}{\\varepsilon} B^T C^{-1} B$ dominates for small $\\varepsilon$. Unless $V_0$ is trivial, the condition number degenerates with $O(\\varepsilon^{-1})$.\n",
    "\n",
    "The goal is to develop preconditioners for the parameter dependent problems which are robust in $\\varepsilon$."
   ]
  },
  {
   "cell_type": "markdown",
   "id": "average-racing",
   "metadata": {},
   "source": [
    "Dirichlet boundary conditions by penalty:\n",
    "---    \n",
    "Adding the Dirichlet condition $u = u_D$ on $\\Gamma_D$:\n",
    "\n",
    "$$\n",
    "\\int \\nabla u \\nabla v + \\int_{\\Gamma_D} \\alpha u v = \\int f v + \\int_{\\Gamma_D}  \\alpha u_D v\n",
    "$$\n",
    "\n",
    "with large parameter $\\alpha = \\varepsilon^{-1}$, or depending on the mesh-size $\\alpha = h^{-1}$.\n",
    "\n",
    "The null-space $V_0$ is the finite element sub-space of $H_{0,D}^1 = \\{ v \\in H^1 : v = 0 \\text{ on } \\Gamma_D \\}$."
   ]
  },
  {
   "cell_type": "markdown",
   "id": "conscious-mongolia",
   "metadata": {},
   "source": [
    "Penalty formulation for the flux:\n",
    "---\n",
    "Approximating the mixed formulation $\\sigma = \\nabla u$, and $\\operatorname{div} \\sigma = -f$ by penalty leads to:\n",
    "\n",
    "$$\n",
    "\\int \\sigma \\tau + \\frac{1}{\\varepsilon} \\int \\operatorname{div} \\sigma \\operatorname{div} \\tau = \\frac{1}{\\varepsilon} \\int f \\operatorname{div} \\tau\n",
    "$$\n",
    "\n",
    "This is a variational formulation on the Hilbert-space $H(\\operatorname{div}) := \\{ \\tau \\in [L_2]^d : \\operatorname{div} \\tau \\in L_2\\}$.\n",
    "\n",
    "The null-space $V_0$ consists of all $\\operatorname{div}$-free functions.\n",
    "\n",
    "Maxwell equations:\n",
    "---\n",
    "\n",
    "Very similar are the equations for the magnetic field, a special case of the Maxwell equations. Given a divergence-free current density $j$, search for a divergence-free magnetic field $B$ such that\n",
    "\n",
    "$$\n",
    "\\operatorname{curl} \\mu^{-1} B = j,\n",
    "$$\n",
    "\n",
    "where $\\mu$ is the so called permeability, a kind of conductivity for the magnetic field. Since we search for a $\\operatorname{div}$-free $B$, and assuming a simply connected domain, we may introduce a vector-potential $u$ such that $B = \\operatorname{curl} u$. Together we have the second order equation\n",
    "\n",
    "$$\n",
    "\\operatorname{curl} \\mu^{-1} \\operatorname{curl} u = j.\n",
    "$$\n",
    "\n",
    "Its weak formulation (ignoring boundary conditions) is\n",
    "\n",
    "$$\n",
    "\\int \\mu^{-1} \\operatorname{curl} u \\, \\operatorname{curl} v = \\int j v\n",
    "$$\n",
    "\n",
    "There is no unique solution: adding an arbitrary gradient field to a solution is also a solution. One way out is Coloumb - gauging, where we add the constraint $\\int u \\nabla \\psi = 0$, i.e. a weak formulation of $\\operatorname{div} u = 0$. Another, very simple method is to regularize with a small $L_2$-term:\n",
    "\n",
    "$$\n",
    "\\int \\mu^{-1} \\operatorname{curl} u \\, \\operatorname{curl} v \n",
    "+ \\int \\varepsilon u v = \\int j v\n",
    "$$\n",
    "\n",
    "Again, we have a parameter dependent problem, with the fictitious regularization parameter $\\varepsilon$. The null-space is\n",
    "\n",
    "$$\n",
    "V_0 = \\{ v : \\operatorname{curl} v = 0 \\} = \\nabla H^1\n",
    "$$"
   ]
  },
  {
   "cell_type": "markdown",
   "id": "damaged-walker",
   "metadata": {},
   "source": [
    "Penalty formulation for the Stokes equation:\n",
    "---\n",
    "\n",
    "We approximate the div-free condition by penalty:\n",
    "\n",
    "Find $u \\in [H_{0,D}]^d$ such that\n",
    "\n",
    "$$\n",
    "\\int \\nu \\nabla u : \\nabla v + \\frac{1}{\\varepsilon} \\int \\operatorname{div} u \\operatorname{div} v = \\int f v\n",
    "$$\n",
    "\n",
    "It looks similar as the penalty formulation for the flux, but now the  A-form is a $H^1$ inner product instead of an $L_2$ inner product. Now, conforming low order methods lead to bad approximations (called locking effect). Robust discretizations are constructed and analyzed by by mixed formulations. If the pressure space consists of discontinuous finite elements, and the $C$ matrix is chosen as $L_2$-inner product, it can be cheaply inverted. We end up with the discretization of the parameter dependent problem. However, the detour over the mixed mixed formulation leads to a projection operator $R_h$:\n",
    "\n",
    "Find $u_h \\in V_h \\subset [H_{0,D}]^d$ such that\n",
    "\n",
    "$$\n",
    "\\int \\nu \\nabla u_h : \\nabla v_h + \\frac{1}{\\varepsilon} \\int R_h \\operatorname{div} u_h \\operatorname{div} v_v = \\int f v_h\n",
    "$$\n",
    "\n",
    "A stable example is to choose $V_h$ a $P^2$ finite element space. Then $\\operatorname{div} u_h$ is a $P^1$ function. Choosing a $P^0$ pressure leads to a projection operator $R_h$ which is the $L_2$-orthogonal projection from $P^1$ onto $P^0$."
   ]
  },
  {
   "cell_type": "markdown",
   "id": "british-longer",
   "metadata": {},
   "source": [
    "Robust two-level methods for parameter dependent problems\n",
    "===\n",
    "\n",
    "Let\n",
    "\n",
    "$$\n",
    "A_h^\\varepsilon = A + \\frac{1}{\\varepsilon} B^T C^{-1} B\n",
    "$$\n",
    "\n",
    "be the discretization matrix of the parameter dependent problem on the finite element space $V_h$. We are going to analyze two-level preconditioners\n",
    "\n",
    "$$\n",
    "C_{2L}^{-1} = D_h^{-1} + P \\, ( A_H^\\varepsilon ) ^{-1} P^T,\n",
    "$$\n",
    "\n",
    "where $A_H^\\varepsilon$ is the discretization matrix on the coarse space $V_H$, $P : V_H \\rightarrow V_h$ is the prolongation matrix, and $D_h$ is a local block-Jacobi preconditioner on $V_h$."
   ]
  },
  {
   "cell_type": "markdown",
   "id": "quality-calculator",
   "metadata": {},
   "source": [
    "Robust smoothers\n",
    "---\n",
    "\n",
    "By the ASM - lemma, we can represent the norm generated by the smoother $D_h$ as\n",
    "\n",
    "$$\n",
    "\\| u \\|_{D_h}^2 = \\inf_{u = \\sum u_i} \\sum \\| u_i \\|_{A + \\frac{1}{\\varepsilon} B^T C^{-1} B}^2,\n",
    "$$\n",
    "\n",
    "where we have the sub-space splitting \n",
    "\n",
    "$$\n",
    "V_h = \\sum V_i.\n",
    "$$\n",
    "\n",
    "If $u$ is a function in the finite-element null-space $V_0$, then the  norm $\\| u \\|_{A + \\frac{1}{\\varepsilon} B^T C^{-1} B}^2$ is independent of the small parameter $\\varepsilon$. Only if we can split $u$ into local null-space functions $u_i$, the $D_h$ norm is also independent of $\\varepsilon$. Thus, we want the splitting compatible with the null-space:\n",
    "\n",
    "$$\n",
    "V_0 = \\sum V_i \\cap V_0\n",
    "$$"
   ]
  },
  {
   "cell_type": "markdown",
   "id": "missing-valuable",
   "metadata": {},
   "source": [
    "**Example: Maxwell equations**"
   ]
  },
  {
   "cell_type": "code",
   "execution_count": null,
   "id": "colored-cricket",
   "metadata": {},
   "outputs": [],
   "source": []
  }
 ],
 "metadata": {
  "kernelspec": {
   "display_name": "Python 3",
   "language": "python",
   "name": "python3"
  },
  "language_info": {
   "codemirror_mode": {
    "name": "ipython",
    "version": 3
   },
   "file_extension": ".py",
   "mimetype": "text/x-python",
   "name": "python",
   "nbconvert_exporter": "python",
   "pygments_lexer": "ipython3",
   "version": "3.9.5"
  }
 },
 "nbformat": 4,
 "nbformat_minor": 5
}
