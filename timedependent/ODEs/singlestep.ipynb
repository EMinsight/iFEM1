{
 "cells": [
  {
   "cell_type": "markdown",
   "id": "b0b32572",
   "metadata": {},
   "source": [
    "# Single-step methods\n",
    "\n",
    "We consider ordinary differential equations (ODE): find $y$ satisfying\n",
    "\n",
    "$$\n",
    "y^\\prime(t) = f(t, y(t)) \\qquad \\forall \\, t \\in [0,T]\n",
    "$$\n",
    "\n",
    "and the initial condition\n",
    "\n",
    "$$\n",
    "y(0) = y_0.\n",
    "$$\n",
    "\n",
    "The unknown function is the state $y : [0,T] \\rightarrow R^N$, and given is the right hand side $f : [0,T] \\times R^N \\rightarrow R^N$."
   ]
  },
  {
   "cell_type": "markdown",
   "id": "15a1c866",
   "metadata": {},
   "source": [
    "We discretize on the grid $t_0 = 0 < t_1 < \\ldots < t_n$ to find approximations $y_j \\approx y(t_j)$. In a single-step method the new value $y_{j+1}$ depends only on $y_j$, and not on the history $y_k$ for $k < j$. The time-step $\\tau_j := t_{j+1}-t_j$ can be easily varied."
   ]
  },
  {
   "cell_type": "markdown",
   "id": "20fdc8ec",
   "metadata": {},
   "source": [
    "## Simple methods based on the integral equation\n",
    "\n",
    "One technique to derive numerical methods is to replace the ODE by an integral equation. On every sub-interval $[t_j, t_{j+1}]$, the ODE with initial condition for $t_j$ is equivalent to the integral equation\n",
    "\n",
    "$$\n",
    "y(t) = y(t_j) + \\int_{t_j}^t f(s, y(s)) \\, ds \\qquad \\forall \\, t \\in [t_j, t_{j+1}]\n",
    "$$\n",
    "\n",
    "### Explicit Euler method (EE)\n",
    "\n",
    "The use the integral equation for $t = t_{j+1}$, and approximate the integral by the left rectangle numerical integration rule:\n",
    "\n",
    "\\begin{eqnarray*}\n",
    "y(t_{j+1}) & = & y(t_j) + \\int_{t_j}^{t_{j+1}} f(s, y(s)) ds \\\\\n",
    " & \\approx & y(t_j) + \\tau_j f(t_j, y(t_j))\n",
    "\\end{eqnarray*}\n",
    "\n",
    "The Explicit Euler methods is\n",
    "\n",
    "$$\n",
    "y_{j+1} = y_j + \\tau_j f(t_j, y_j) \\qquad \\forall \\, j = 0, \\ldots n-1.\n",
    "$$\n",
    "\n",
    "It is the same method as motivated by forward difference quotients. It is very simple to apply since the new approximation is given by an explicit formula.\n",
    "\n",
    "### Implicit Euler method (IE)\n",
    "\n",
    "Now we use the right rectangle rule for numerical integration\n",
    "\n",
    "$$\n",
    "y(t_{j+1}) \\approx y(t_j) + \\tau_j f(t_{j+1}, y(t_{j+1}))\n",
    "$$\n",
    "\n",
    "leading to the implicit Euler method:\n",
    "\n",
    "$$\n",
    "y_{j+1} = y_j + \\tau_j f(t_{j+1}, y_{j+1}) \\qquad \\forall \\, j = 0, \\ldots n-1\n",
    "$$\n",
    "\n",
    "It is the same method as motivated by backward difference quotients. Now the unknown new value $y_{j+1}$ shows up also on the right hand side. A (often non-linear) equation has to be solved, which makes the implicit Euler method more expensive to apply.\n",
    "\n",
    "\n",
    "### Trapezoidal method\n",
    "\n",
    "The trapezoidal numerical integration rule is to approximate \n",
    "\n",
    "$$\n",
    "\\int_a^b g(x) dx \\approx \\tfrac{b-a}{2} (g(a) + g(b))\n",
    "$$\n",
    "\n",
    "Applying it to the integral equation leads to the trapezoidal method\n",
    "\n",
    "$$\n",
    "y_{j+1} = y_j + \\tfrac{\\tau}{2} ( f(t_j, y_j)  + f(t_{j+1}, y_{j+1}))\n",
    "$$\n",
    "\n",
    "It is an implicit method as well. In contrast to EE and IE methods it is second order accurate.\n",
    "\n",
    "### Explicit mid-point rule (=improved Euler method)\n",
    "\n",
    "Another second-order integration rule is the mid-point rule leading to \n",
    "\n",
    "$$\n",
    "y_{j+1} = y_j + \\tau_j f(t_{j+1/2}, y_{j+1/2})\n",
    "$$\n",
    "\n",
    "The state value $y_{j+1/2}$ is not known, and can be approximated by an explicit Euler method with step-size $\\tau/2$:\n",
    "\n",
    "$$\n",
    "y_{j+1/2} = y_j + \\tfrac{\\tau_j}{2} f(t_j, y_j) \n",
    "$$\n",
    "\n",
    "It is an explicit method, and second order accurate. We could also use the implicit Euler method to approximate the mid-point value $y_{j+1/2}$, or take the mean value $\\tfrac{1}{2} (y_j + y_{j+1})$."
   ]
  },
  {
   "cell_type": "markdown",
   "id": "f2406f87",
   "metadata": {},
   "source": [
    "## Stability region"
   ]
  },
  {
   "cell_type": "code",
   "execution_count": null,
   "id": "3e77363f",
   "metadata": {},
   "outputs": [],
   "source": [
    "def stab_EE(z): return abs(z+1)\n",
    "def stab_IE(z): return abs(1/(z-1))\n",
    "def stab_improvedEE(z): return abs(1+z+0.5*z*z)\n",
    "def stab_RK3(z): return abs(1+z+0.5*z*z+1/6*z*z*z)"
   ]
  },
  {
   "cell_type": "code",
   "execution_count": null,
   "id": "594dfbf3",
   "metadata": {},
   "outputs": [],
   "source": [
    "import numpy as np\n",
    "import matplotlib.pyplot as plt\n",
    "\n",
    "x = np.linspace(-3,3,1000)\n",
    "y = np.linspace(-3,3,1000)\n",
    "X,Y = np.meshgrid(x,y)\n",
    "plt.figure()\n",
    "# g = stab_EE\n",
    "g = stab_IE\n",
    "# g = stab_improvedEE\n",
    "# g = stab_RK3\n",
    "plt.contourf(g(X+1j*Y),[0,1], colors=\"blue\", extent=(-3,3,-3,3))\n",
    "plt.show()"
   ]
  },
  {
   "cell_type": "code",
   "execution_count": null,
   "id": "3d0d76db",
   "metadata": {},
   "outputs": [],
   "source": []
  }
 ],
 "metadata": {
  "kernelspec": {
   "display_name": "Python 3 (ipykernel)",
   "language": "python",
   "name": "python3"
  },
  "language_info": {
   "codemirror_mode": {
    "name": "ipython",
    "version": 3
   },
   "file_extension": ".py",
   "mimetype": "text/x-python",
   "name": "python",
   "nbconvert_exporter": "python",
   "pygments_lexer": "ipython3",
   "version": "3.10.2"
  }
 },
 "nbformat": 4,
 "nbformat_minor": 5
}
