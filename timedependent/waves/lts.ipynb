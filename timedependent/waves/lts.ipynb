{
 "cells": [
  {
   "cell_type": "markdown",
   "id": "9a91a519",
   "metadata": {},
   "source": [
    "# Local time-stepping"
   ]
  },
  {
   "cell_type": "code",
   "execution_count": null,
   "id": "d75840a6",
   "metadata": {},
   "outputs": [],
   "source": [
    "from ngsolve import *\n",
    "from ngsolve.webgui import Draw\n",
    "from netgen.occ import unit_square\n",
    "from time import sleep\n",
    "\n",
    "mesh = unit_square.GenerateMesh(maxh=0.05)\n",
    "for l in range(3): mesh.Refine()\n",
    "mesh = Mesh(mesh)\n",
    "# Draw (mesh)"
   ]
  },
  {
   "cell_type": "code",
   "execution_count": null,
   "id": "07aee536",
   "metadata": {},
   "outputs": [],
   "source": [
    "tau = 0.0002\n",
    "tend = 2\n",
    "u0 = exp(-40**2*( (x-0.5)**2 + (y-0.5)**2))\n",
    "v0 = 0\n",
    "\n",
    "# fes = H1(mesh, order=1)\n",
    "fes = H1LumpingFESpace(mesh)   # added on Feb 10, 2022\n",
    "u,v = fes.TnT()\n",
    "\n",
    "# lumping = IntegrationRule( [(0,0),(1,0),(0,1)], [1/6, 1/6, 1/6])\n",
    "# mform = u*v*dx(intrules = { TRIG: lumping })\n",
    "mform = u*v*dx(intrules=fes.GetIntegrationRules())\n",
    "aform = grad(u)*grad(v)*dx\n",
    "\n",
    "m = BilinearForm(mform).Assemble()\n",
    "a = BilinearForm(aform).Assemble()\n",
    "minv = m.mat.CreateSmoother()"
   ]
  },
  {
   "cell_type": "markdown",
   "id": "2baf67fe",
   "metadata": {},
   "source": [
    "## The Verlet method:"
   ]
  },
  {
   "cell_type": "code",
   "execution_count": null,
   "id": "eac60665",
   "metadata": {
    "scrolled": false
   },
   "outputs": [],
   "source": [
    "gfu = GridFunction(fes)\n",
    "gfu.Set(u0)\n",
    "\n",
    "scene = Draw(gfu, order=2, deformation=True)\n",
    "sleep (3)\n",
    "unew = gfu.vec.CreateVector()\n",
    "uold = gfu.vec.CreateVector()\n",
    "uold.data = gfu.vec\n",
    "\n",
    "with TaskManager(): # pajetrace=10**8):\n",
    "    for n in range(int(tend/tau)):\n",
    "        unew.data = 2*gfu.vec - uold \n",
    "        unew.data -= tau**2 * minv@a.mat * gfu.vec\n",
    "        uold.data = gfu.vec\n",
    "        gfu.vec.data = unew.data\n",
    "        if n % 200 == 0:\n",
    "            scene.Redraw()\n",
    "scene.Redraw()"
   ]
  },
  {
   "cell_type": "markdown",
   "id": "c6fa0749",
   "metadata": {},
   "source": [
    "# Geometry with local details:\n",
    "\n",
    "LF-LTS method by Diaz and Grote, SISC 2009"
   ]
  },
  {
   "cell_type": "code",
   "execution_count": null,
   "id": "ff85018a",
   "metadata": {},
   "outputs": [],
   "source": [
    "from netgen.occ import *\n",
    "rect = MoveTo(-1,-1).Rectangle(2.5,2).Face()\n",
    "hole = MoveTo(0.5,0.01).Rectangle(0.001,0.8).Face() + \\\n",
    "    MoveTo(0.5,-0.81).Rectangle(0.001,0.8).Face()\n",
    "local = Circle((0.5,0.8),0.1).Face() + \\\n",
    "    Circle((0.5,0),0.1).Face() + \\\n",
    "    Circle((0.5,-0.8),0.1).Face()\n",
    "large = rect-local-hole\n",
    "small = local-hole\n",
    "large.faces.name=\"large\"\n",
    "small.faces.name=\"small\"\n",
    "\n",
    "shape = Glue ([large,small])\n",
    "geo = OCCGeometry(shape, dim=2)\n",
    "mesh = Mesh(geo.GenerateMesh(maxh=0.02, grading=0.5))\n",
    "Draw (mesh);"
   ]
  },
  {
   "cell_type": "code",
   "execution_count": null,
   "id": "aa2d29c6",
   "metadata": {},
   "outputs": [],
   "source": [
    "tau = 0.01\n",
    "tend = 1\n",
    "u0 = exp(-10**2*( x**2 + y**2))\n",
    "v0 = 0\n",
    "substeps = 20\n",
    "\n",
    "fes = H1(mesh, order=1)\n",
    "u,v = fes.TnT()\n",
    "\n",
    "localdofs = fes.GetDofs(mesh.Materials(\"small\"))\n",
    "print (\"local dofs: \", localdofs.NumSet(),\"/\",len(localdofs))\n",
    "Ps = Projector(localdofs, True)   # projection to small\n",
    "Pl = Projector(localdofs, False)  # projection to large\n",
    "\n",
    "lumping = IntegrationRule( [(0,0),(1,0),(0,1)], [1/6, 1/6, 1/6])\n",
    "mform = u*v*dx(intrules = { TRIG: lumping })\n",
    "aform = grad(u)*grad(v)*dx\n",
    "\n",
    "mmat = BilinearForm(mform).Assemble().mat\n",
    "amat = BilinearForm(aform).Assemble().mat\n",
    "minva = mmat.CreateSmoother()@amat\n",
    "APs = minva@Ps    # some optimization possible\n",
    "APl = minva@Pl"
   ]
  },
  {
   "cell_type": "code",
   "execution_count": null,
   "id": "cfdaf92e",
   "metadata": {},
   "outputs": [],
   "source": [
    "gfu = GridFunction(fes)\n",
    "gfu.Set(u0)\n",
    "\n",
    "scene = Draw(gfu, order=1, deformation=True)\n",
    "sleep (3)\n",
    "unew = gfu.vec.CreateVector()\n",
    "uold = gfu.vec.CreateVector()\n",
    "z = gfu.vec.CreateVector()\n",
    "znew = gfu.vec.CreateVector()\n",
    "zold = gfu.vec.CreateVector()\n",
    "w = gfu.vec.CreateVector()\n",
    "uold.data = gfu.vec\n",
    "\n",
    "with TaskManager(): # pajetrace=10**8):\n",
    "    for n in range(int(tend/tau)):\n",
    "        w.data = APl * gfu.vec\n",
    "        zold.data = gfu.vec\n",
    "        z.data = zold - (tau/substeps)**2/2*(w+APs*zold)\n",
    "        for m in range(1, substeps):\n",
    "            znew.data = 2*z-zold\n",
    "            znew.data -= (tau/substeps)**2*(w+APs*z)\n",
    "            zold,z,znew = z,znew,zold\n",
    "        unew.data = 2*z-uold\n",
    "        uold.data = gfu.vec\n",
    "        gfu.vec.data = unew.data\n",
    "        if n % 1 == 0:\n",
    "            scene.Redraw()"
   ]
  },
  {
   "cell_type": "code",
   "execution_count": null,
   "id": "be2509b0",
   "metadata": {},
   "outputs": [],
   "source": []
  }
 ],
 "metadata": {
  "kernelspec": {
   "display_name": "Python 3 (ipykernel)",
   "language": "python",
   "name": "python3"
  },
  "language_info": {
   "codemirror_mode": {
    "name": "ipython",
    "version": 3
   },
   "file_extension": ".py",
   "mimetype": "text/x-python",
   "name": "python",
   "nbconvert_exporter": "python",
   "pygments_lexer": "ipython3",
   "version": "3.10.4"
  }
 },
 "nbformat": 4,
 "nbformat_minor": 5
}
