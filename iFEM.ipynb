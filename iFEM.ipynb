{
 "cells": [
  {
   "cell_type": "markdown",
   "metadata": {},
   "source": [
    "An Interactive Introduction to the Finite Element Method\n",
    "===\n",
    "\n",
    "Joachim Schöberl, TU Wien"
   ]
  },
  {
   "cell_type": "markdown",
   "metadata": {
    "collapsed": true
   },
   "source": [
    "The Galerkin Method\n",
    "----\n",
    "* [Solving the Poisson Equation](primal/first_example.ipynb) \n",
    "* [Boundary conditions](primal/boundary_conditions.ipynb) \n",
    "* [Different materials](primal/subdomains.ipynb) \n",
    "* [Iterative solvers](primal/solvers.ipynb) "
   ]
  },
  {
   "cell_type": "markdown",
   "metadata": {
    "collapsed": true
   },
   "source": [
    "The Helmholtz equation\n",
    "---\n",
    "\n",
    "* [Absorbing boundary conditions](helmholtz/absorbing.ipynb)\n",
    "* [Grating](helmholtz/grating.ipynb)"
   ]
  },
  {
   "cell_type": "markdown",
   "metadata": {
    "collapsed": true
   },
   "source": [
    "Discontinuous Galerkin Methods\n",
    "--\n",
    "\n",
    "* [Stationary transport equation](DG/stationary.ipynb)\n",
    "* [Instationary transport equation](DG/instationary.ipynb)\n",
    "* [Hybrid DG for elliptic operators](DG/elliptic.ipynb)\n",
    "* [Splitting method time-dependent convection diffusion](DG/splitting.ipynb)"
   ]
  },
  {
   "cell_type": "code",
   "execution_count": null,
   "metadata": {
    "collapsed": true
   },
   "outputs": [],
   "source": []
  }
 ],
 "metadata": {
  "kernelspec": {
   "display_name": "Python 3",
   "language": "python",
   "name": "python3"
  },
  "language_info": {
   "codemirror_mode": {
    "name": "ipython",
    "version": 3
   },
   "file_extension": ".py",
   "mimetype": "text/x-python",
   "name": "python",
   "nbconvert_exporter": "python",
   "pygments_lexer": "ipython3",
   "version": "3.6.2"
  }
 },
 "nbformat": 4,
 "nbformat_minor": 2
}
