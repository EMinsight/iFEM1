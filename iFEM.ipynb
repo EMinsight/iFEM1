{
 "cells": [
  {
   "cell_type": "markdown",
   "metadata": {},
   "source": [
    "An Interactive Introduction to the Finite Element Method\n",
    "===\n",
    "\n",
    "Joachim Schöberl, TU Wien"
   ]
  },
  {
   "cell_type": "markdown",
   "metadata": {},
   "source": [
    "[Preamble](preamble.ipynb)"
   ]
  },
  {
   "cell_type": "markdown",
   "metadata": {
    "collapsed": true
   },
   "source": [
    "The Galerkin Method\n",
    "----\n",
    "* [Solving the Poisson Equation](primal/first_example.ipynb) \n",
    "* [Boundary conditions](primal/boundary_conditions.ipynb) \n",
    "* [Different materials](primal/subdomains.ipynb) \n",
    "* [Iterative solvers](primal/solvers.ipynb) "
   ]
  },
  {
   "cell_type": "markdown",
   "metadata": {
    "collapsed": true
   },
   "source": [
    "Mixed Finite Element Methods\n",
    "--\n",
    "* [Stokes equation](mixed/stokes.ipynb)\n",
    "* [Boundary conditions](mixed/boundary.ipynb)\n",
    "* [Mixed methods for second order equations](mixed/secondorder.ipynb)\n",
    "* [Abstract theory](mixed/abstract.ipynb)\n",
    "* [Abstract theory for finite elements](mixed/abstractfem.ipynb)\n",
    "* [Parameter dependent problems](mixed/pardep.ipynb)"
   ]
  },
  {
   "cell_type": "markdown",
   "metadata": {
    "collapsed": true
   },
   "source": [
    "Discontinuous Galerkin Methods\n",
    "--\n",
    "\n",
    "* [Stationary transport equation](DG/stationary.ipynb)\n",
    "* [Instationary transport equation](DG/instationary.ipynb)\n",
    "* [Hybrid DG for elliptic operators](DG/elliptic.ipynb)\n",
    "* [Splitting methods for time-dependent convection diffusion](DG/splitting.ipynb)\n",
    "* [Fourth order equation](DG/fourthorder.ipynb)\n",
    "* [H(div)-conforming Stokes](DG/stokes.ipynb)"
   ]
  },
  {
   "cell_type": "markdown",
   "metadata": {
    "collapsed": true
   },
   "source": [
    "Mixed Methods for Second Order Equations\n",
    "---\n",
    "* [Application of the abstract theory](secondorder/framework.ipynb)\n",
    "* [The function space H(div)](secondorder/hdiv.ipynb)\n",
    "* [Finite elements for H(div)](secondorder/finiteelements.ipynb)\n",
    "* [Finite element error analysis](secondorder/erroranalysis.ipynb)\n",
    "* [Eror analysis in $L_2 \\times H^1$](secondorder/erroranalysisl2h1.ipynb)\n",
    "* [Hybridization techniques](secondorder/hybridization.ipynb)"
   ]
  },
  {
   "cell_type": "markdown",
   "metadata": {},
   "source": [
    "Mixed Methods for Elasticity\n",
    "---\n",
    "* [Hellinger Reissner Formulation](mixedelasticity/hellingerreissner.ipynb)\n",
    "* [Reduced symmetry Methods](mixedelasticity/reducedsymmetry.ipynb)\n",
    "* [The TDNNS method](mixedelasticity/tdnns.ipynb)\n",
    "* [TDNNS for non-linear dynamics](mixedelasticity/dynamics.ipynb)"
   ]
  },
  {
   "cell_type": "markdown",
   "metadata": {},
   "source": [
    "Mixed Methods for Plates and Shells\n",
    "---\n",
    "* [The Hellan Herrmann Johnson method](plates/hhj.ipynb)\n",
    "* [Relationship between HHJ and TDNNS](plates/hhj-tdnns.ipynb)\n",
    "* [TDNNS for Reissner Mindlin plates](plates/reissnermindlin.ipynb)\n",
    "* [3D-TDNNS and Reissner Mindlin elements](plates/tdnnsplate.ipynb)\n",
    "* [Nonlinear shells](plates/shells.ipynb)"
   ]
  },
  {
   "cell_type": "markdown",
   "metadata": {
    "collapsed": true
   },
   "source": [
    "The Helmholtz equation\n",
    "---\n",
    "* [Absorbing boundary conditions](helmholtz/absorbing.ipynb)\n",
    "* [Grating](helmholtz/grating.ipynb)"
   ]
  },
  {
   "cell_type": "code",
   "execution_count": null,
   "metadata": {
    "collapsed": true
   },
   "outputs": [],
   "source": []
  }
 ],
 "metadata": {
  "kernelspec": {
   "display_name": "Python 3",
   "language": "python",
   "name": "python3"
  },
  "language_info": {
   "codemirror_mode": {
    "name": "ipython",
    "version": 3
   },
   "file_extension": ".py",
   "mimetype": "text/x-python",
   "name": "python",
   "nbconvert_exporter": "python",
   "pygments_lexer": "ipython3",
   "version": "3.8.5"
  }
 },
 "nbformat": 4,
 "nbformat_minor": 2
}
