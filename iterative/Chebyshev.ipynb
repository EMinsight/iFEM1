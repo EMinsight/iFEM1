{
 "cells": [
  {
   "cell_type": "markdown",
   "id": "gross-insider",
   "metadata": {},
   "source": [
    "The Chebyshev Iteration\n",
    "===\n",
    "Let $A$ be SPD, and $C$ an SPD preconditioner. If we perform $n$ steps of the Richardson iteration with damping parameter $\\tau$, the error $e^n$ follows from the initial error $e^0$ via \n",
    "\n",
    "$$\n",
    "e^n = (I - \\tau C^{-1} A)^n e^0.\n",
    "$$\n",
    "\n",
    "Now, we allow to use different damping parameters $\\tau_k$ in every iteration. Then\n",
    "\n",
    "$$\n",
    "e^n = (I - \\tau_m C^{-1} A) \\cdots (I - \\tau_2 C^{-1} A )(I - \\tau_1 C^{-1} A) e^0.\n",
    "$$\n",
    "\n",
    "With the polynomial\n",
    "\n",
    "$$\n",
    "p(\\lambda) = \\Pi_{i=1}^n (1 - \\tau_i \\lambda)\n",
    "$$\n",
    "\n",
    "we can write \n",
    "\n",
    "$$\n",
    "e^n = p(C^{-1} A) e^0\n",
    "$$\n",
    "\n",
    "We observe that $p(.)$ is a polynomial of degree $m$, such that $p(0) = 1$. Let $(\\lambda_i, z^i)$ be the eigen-system of $C^{-1} A$, and expand errors with respect to the eigen-basis:\n",
    "\n",
    "$$\n",
    "\\| e^n \\|_C^2 = \\sum_{i=1}^N {e^n_i}^2 = \\sum_{i=1}^N \\big( p(\\lambda_i) {e^0_i} \\big)^2 \\leq \\sup_{\\lambda \\in \\sigma(C^{-1} A)} p(\\lambda)^2 \\; \\| e^0 \\|_C^2\n",
    "$$\n",
    "\n",
    "\n",
    "The goal is now to find damping parameters $\\tau_1, \\ldots \\tau_m$ such that\n",
    "\n",
    "$$\n",
    "\\max_{\\lambda_i \\in \\sigma(C^{-1} A)} p(\\lambda_i)\n",
    "$$\n",
    "\n",
    "is minimal. It is rarely feasible to work with the precise spectrum. But often we have bounds such that $\\sigma(C^{-1} A) \\subset [\\gamma_1, \\gamma_2]$ with $0 < \\gamma_1 < \\gamma_2$. Then, we can simplify the problem to optimize the polynomial such that\n",
    "\n",
    "$$\n",
    "\\min_{p \\in \\text{Pol(m)} \\atop p(0) = 1} \\max_{\\lambda \\in [\\gamma_1, \\gamma_2]}\n",
    " p(\\lambda)\n",
    "$$\n",
    "\n",
    "The solution to this min-max problem is given by Chebyshev polynomials."
   ]
  },
  {
   "cell_type": "markdown",
   "id": "straight-conducting",
   "metadata": {},
   "source": [
    "Chebyshev polynomials\n",
    "---\n",
    "\n",
    "Chebyshev polynomials (of the first kind) are defined via the three-term recurrence relation \n",
    "\n",
    "\\begin{eqnarray*}\n",
    "T_0(x) & = & 1 \\\\\n",
    "T_1(x) & = & x \\\\\n",
    "T_{n+1}(x) & = & 2 x T_n(x) - T_{n-1}(x) \\qquad n \\geq 1\n",
    "\\end{eqnarray*}\n",
    "\n",
    "Using induction and the trigonometric addition formulas one easily \n",
    "shows that\n",
    "\n",
    "$$\n",
    "T_n(x) = \\cos( n \\arccos (x)) \\qquad \\text{for} \\; x \\in [-1,1]\n",
    "$$\n",
    "\n",
    "and thus \n",
    "\n",
    "$$\n",
    "\\sup_{x \\in [-1,1]} T_n(x) = 1\n",
    "$$"
   ]
  },
  {
   "cell_type": "code",
   "execution_count": null,
   "id": "functional-certification",
   "metadata": {},
   "outputs": [],
   "source": [
    "def Cheby(n,x):\n",
    "    T,Told = x, 1+0*x\n",
    "    for i in range(n):\n",
    "        T,Told = 2*x*T-Told, T\n",
    "    return Told"
   ]
  },
  {
   "cell_type": "code",
   "execution_count": null,
   "id": "developmental-diversity",
   "metadata": {},
   "outputs": [],
   "source": [
    "%matplotlib widget\n",
    "\n",
    "import ipywidgets as widgets\n",
    "import matplotlib.pyplot as plt\n",
    "import numpy as np\n",
    "\n",
    "fig, ax = plt.subplots(figsize=(6, 4))\n",
    "fig.canvas.toolbar_visible = True\n",
    "fig.canvas.header_visible = False\n",
    "ax.set_ylim([-3, 3])\n",
    "ax.grid(True)\n",
    "\n",
    "x = np.linspace(-1.2, 1.2, 500)\n",
    "for k in [1, 2, 5, 20]:\n",
    "    ax.plot (x, Cheby(k,x), label='T'+str(k))\n",
    "ax.legend()"
   ]
  },
  {
   "cell_type": "markdown",
   "id": "furnished-hunger",
   "metadata": {},
   "source": [
    "We rescale \n",
    "* the argument such that $\\lambda = \\gamma_1$ is mapped to $-1$ and $\\lambda = \\gamma_2$ is mapped to $+1$,\n",
    "* and scale the range such that $\\widetilde T_n(0) = 1$:\n",
    "\n",
    "$$\n",
    "\\widetilde T_n(\\lambda) = \\frac{1}{T_n \\left(\\tfrac{-\\gamma_1-\\gamma_2}{\\gamma_2-\\gamma_1}\\right)} \n",
    "T_n \\left(\\tfrac{2 \\lambda -\\gamma_1-\\gamma_2}{\\gamma_2-\\gamma_1}\\right)\n",
    "$$"
   ]
  },
  {
   "cell_type": "code",
   "execution_count": null,
   "id": "smoking-straight",
   "metadata": {},
   "outputs": [],
   "source": [
    "def ScaledCheby(n,lam,gamma1, gamma2):\n",
    "    x = -(gamma2+gamma1)/(gamma2-gamma1)+2/(gamma2-gamma1)*lam\n",
    "    fac = 1/Cheby(n, -(gamma2+gamma1)/(gamma2-gamma1))\n",
    "    return fac*Cheby(n,x)"
   ]
  },
  {
   "cell_type": "markdown",
   "id": "honey-study",
   "metadata": {},
   "source": [
    "We compare the scaled Chebyshev polynomial to the error reduction of $n$ steps Richardson iteration for the error component in the eigen-space corresponding to an eigen-value $\\lambda$:\n",
    "$$\n",
    "(1 - \\tau_{\\text{opt}} \\lambda)^n \\qquad \\text{with} \\qquad \\tau_\\text{opt} = \\frac{2}{\\gamma_1 + \\gamma_2}\n",
    "$$"
   ]
  },
  {
   "cell_type": "code",
   "execution_count": null,
   "id": "periodic-railway",
   "metadata": {
    "scrolled": true
   },
   "outputs": [],
   "source": [
    "%matplotlib widget\n",
    "\n",
    "import ipywidgets as widgets\n",
    "import matplotlib.pyplot as plt\n",
    "import numpy as np\n",
    "\n",
    "fig, ax = plt.subplots(figsize=(6, 4))\n",
    "fig.canvas.toolbar_visible = True\n",
    "fig.canvas.header_visible = False\n",
    "\n",
    "ax.set_ylim([-1.5, 1.5])\n",
    "ax.grid(True)\n",
    "# ax.set_title(\"\")\n",
    " \n",
    "gamma2 = 1\n",
    "\n",
    "@widgets.interact(n=(0, 50, 1), gamma1=(0.01, 1, 0.01))\n",
    "def update(n = 5, gamma1=0.1):\n",
    "    s1 = np.linspace(0, gamma1, 500)\n",
    "    s2 = np.linspace(gamma1, gamma2, 500)\n",
    "    for l in list(ax.lines): l.remove()\n",
    "    ax.plot(s1, ScaledCheby(n,s1,gamma1, gamma2), color='r', linestyle='dashed')\n",
    "    ax.plot(s2, ScaledCheby(n,s2,gamma1, gamma2), color='r', label='Cheby')\n",
    "    tauopt = 2/(gamma1+gamma2)\n",
    "    ax.plot(s1, (1-tauopt*s1)**n, color='b', linestyle='dashed')\n",
    "    ax.plot(s2, (1-tauopt*s2)**n, color='b', label='Richardson')\n",
    "    \n",
    "ax.legend()"
   ]
  },
  {
   "cell_type": "markdown",
   "id": "earned-intellectual",
   "metadata": {},
   "source": [
    "The maximum of $\\tilde T$ on the interval $[\\gamma_1, \\gamma_2]$ is\n",
    "$$\n",
    "\\frac{1}{T_n \\big(\\tfrac{-\\gamma_1-\\gamma_2}{\\gamma_2-\\gamma_1}\\big)}\n",
    "$$\n"
   ]
  },
  {
   "cell_type": "code",
   "execution_count": null,
   "id": "egyptian-firmware",
   "metadata": {},
   "outputs": [],
   "source": []
  }
 ],
 "metadata": {
  "kernelspec": {
   "display_name": "Python 3",
   "language": "python",
   "name": "python3"
  },
  "language_info": {
   "codemirror_mode": {
    "name": "ipython",
    "version": 3
   },
   "file_extension": ".py",
   "mimetype": "text/x-python",
   "name": "python",
   "nbconvert_exporter": "python",
   "pygments_lexer": "ipython3",
   "version": "3.9.2"
  }
 },
 "nbformat": 4,
 "nbformat_minor": 5
}
