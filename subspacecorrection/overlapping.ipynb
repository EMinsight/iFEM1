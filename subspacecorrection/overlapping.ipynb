{
 "cells": [
  {
   "cell_type": "markdown",
   "id": "thermal-mount",
   "metadata": {},
   "source": [
    "Overlapping Domain Decomposition Methods\n",
    "===\n",
    "Let $\\{ \\Omega_i \\}$ be a non-overlapping decomposition of $\\Omega$ into open sub-domains, i.e.\n",
    "\n",
    "$$\n",
    "\\Omega_i \\cap \\Omega_j = 0 \\quad \\text{ for } i \\neq j\n",
    "$$\n",
    "\n",
    "and\n",
    "\n",
    "$$\n",
    "\\overline \\Omega = \\bigcup \\ \\overline \\Omega_i\n",
    "$$\n",
    "\n",
    "Let $H_i = \\operatorname{diam} \\Omega_i$. To simplify notation we assume that all $H_i$ are in the same order of magnitude, and write $H$.\n",
    "\n",
    "\n",
    "In addition to $\\Omega_i$, we define enlarged sub-domains\n",
    "\n",
    "$$\n",
    "\\widetilde \\Omega_i = {U}_{cH} (\\Omega_i) = \\{ x \\in \\Omega : \\operatorname{dist} (x,\\Omega_i) < c H \\},\n",
    "$$\n",
    "\n",
    "where the constant $c$ is order of one.\n",
    "\n",
    "\n",
    "The overlapping domain decomposition method is a sub-space decomposition of the global finite element space $V_h \\subset H^1_{0,D}$ into local spaces supported on the overlapping sub-domains $\\widetilde \\Omega_i$, i.e.\n",
    "\n",
    "$$\n",
    "V_i = \\{ v \\in V_h : v = 0 \\text{ on } \\Omega \\setminus \\widetilde \\Omega_i \\}\n",
    "$$\n",
    "\n",
    "The overlapping domain decomposition method is an additive Schwarz method with the space splitting\n",
    "\n",
    "$$\n",
    "V_h = \\sum V_i\n",
    "$$\n",
    "\n",
    "We are solving Dirichlet problems on the overlapping sub-domains, and adding up the solutions."
   ]
  },
  {
   "cell_type": "markdown",
   "id": "protecting-effects",
   "metadata": {},
   "source": [
    "Experiments with overlapping DD\n",
    "---"
   ]
  },
  {
   "cell_type": "code",
   "execution_count": null,
   "id": "recreational-strengthening",
   "metadata": {},
   "outputs": [],
   "source": [
    "from ngsolve import *\n",
    "from ngsolve.webgui import Draw\n",
    "from netgen.geom2d import unit_square"
   ]
  },
  {
   "cell_type": "markdown",
   "id": "spiritual-buddy",
   "metadata": {},
   "source": [
    "We start from a coarse grid, where we define the overlapping sub-domains as vertex patches: All elements connected with vertex i form the $i^{th}$ sub-domain. To visualize it, we define an $L_2$ finite\n",
    "element function of order 0:"
   ]
  },
  {
   "cell_type": "code",
   "execution_count": null,
   "id": "double-worse",
   "metadata": {},
   "outputs": [],
   "source": [
    "mesh = Mesh(unit_square.GenerateMesh(maxh=0.3))\n",
    "fesdom = L2(mesh, order=0, autoupdate=True)\n",
    "fes = H1(mesh, order=1, dirichlet=\"bottom\", autoupdate=True)\n",
    "gfdom = GridFunction(fesdom, multidim=mesh.nv, nested=True, autoupdate=True)\n",
    "for el in mesh.Elements(VOL):\n",
    "    for v in el.vertices:\n",
    "        gfdom.vecs[v.nr][el.nr] = 1\n",
    "        \n",
    "for l in range(5):\n",
    "    mesh.Refine()\n",
    "\n",
    "Draw (gfdom)"
   ]
  },
  {
   "cell_type": "markdown",
   "id": "opponent-qatar",
   "metadata": {},
   "source": [
    "Setup the problem. The sub-spaces are defined via BitArrays with \n",
    "cleared bits for dofs not belonging to elements not in $\\widetilde \\Omega_i$:"
   ]
  },
  {
   "cell_type": "code",
   "execution_count": null,
   "id": "prompt-japan",
   "metadata": {},
   "outputs": [],
   "source": [
    "u,v = fes.TnT()\n",
    "a = BilinearForm(grad(u)*grad(v)*dx).Assemble()\n",
    "\n",
    "pre = None\n",
    "for v in gfdom.vecs:\n",
    "    mask = BitArray(fes.FreeDofs())\n",
    "    for el in fes.Elements(VOL):\n",
    "        if v[el.nr] == 0:\n",
    "            for d in el.dofs:\n",
    "                mask[d] = False\n",
    "    # print (mask)\n",
    "    invi = a.mat.Inverse(freedofs=mask, inverse=\"sparsecholesky\")\n",
    "    pre = pre+invi if pre else invi     "
   ]
  },
  {
   "cell_type": "code",
   "execution_count": null,
   "id": "charming-throat",
   "metadata": {},
   "outputs": [],
   "source": [
    "from ngsolve.la import EigenValues_Preconditioner\n",
    "lam = list(EigenValues_Preconditioner(a.mat, pre))\n",
    "print (\"lammin, lammax=\", lam[0], lam[-1])\n",
    "print (\"kappa=\", lam[-1]/lam[0])"
   ]
  },
  {
   "cell_type": "markdown",
   "id": "assisted-evans",
   "metadata": {},
   "source": [
    "We observe the following behaviour:\n",
    "* the condition number is independent of the refinement level\n",
    "* the condition number grows with the number of sub-domains"
   ]
  },
  {
   "cell_type": "markdown",
   "id": "limiting-alfred",
   "metadata": {},
   "source": [
    "Analysis of the DD preconditioner\n",
    "---\n",
    "\n",
    "Theorem: The eigenvalues of the domain decomposition preconditioner are bounded as\n",
    "\n",
    "$$\n",
    "\\sigma(C_{DD}^{-1} A) \\subset [c_1 H^2, c_2 ]\n",
    "$$\n",
    "\n",
    "*Outline of the proof*: We apply the Additive Schwarz Lemma. The ASM lemma provides the representation\n",
    "\n",
    "$$\n",
    "u^T C_{DD} u = \\inf_{u = \\sum u_i \\atop  u_i \\in V_i} \\sum_i \\| u_i \\|_A^2\n",
    "$$\n",
    "\n",
    "By assuming regularity of the domains, only a small, fixed number of sub-domains overlap. From that we get the upper bound $c_2$ for the spectrum. For the lower bound $c_1 H^2$ we have to define explicitly a decomposition of a finite element function $u$ into sub-space finite element functions. This requires some technical tools."
   ]
  },
  {
   "cell_type": "markdown",
   "id": "human-execution",
   "metadata": {},
   "source": [
    "**Partition on unity (PUM):**\n",
    "\n",
    "We call the set of functions $\\{ \\psi_i \\}$ a partition of unity for the domain decomposition $\\widetilde \\Omega_i$ iff\n",
    "\n",
    "$$\n",
    "\\text{support} \\{ \\psi_i \\}  \\subset \\widetilde \\Omega_i\n",
    "$$\n",
    "\n",
    "$$\n",
    "0 \\leq \\psi_i \\leq 1\n",
    "$$\n",
    "\n",
    "and\n",
    "\n",
    "$$\n",
    "\\sum \\psi_i = 1\n",
    "$$\n",
    "\n",
    "For the definition of the overlapping domain decomposition we can define a PUM as follows:\n",
    "\n",
    "$$\n",
    "\\psi_i^0(x) = \\max \\{0,  1 - \\frac{1}{cH_i} \\operatorname{dist} \\{ x, \\Omega_i \\} \\}\n",
    "$$\n",
    "\n",
    "These functions are $1$ inside $\\Omega_i$, $0$ outside $\\widetilde \\Omega_i$, and decay with a maximal derivative \n",
    "\n",
    "$$\n",
    "| \\nabla \\psi_i^0 |_{\\infty}  \\leq \\frac{1}{c H_i}\n",
    "$$\n",
    "\n",
    "However, these function do not sum up to 1, so we scale\n",
    "$$\n",
    "\\psi_i(x) := \\frac{\\psi_i^0(x)} {\\sum \\psi_i^0(x) }\n",
    "$$"
   ]
  },
  {
   "cell_type": "markdown",
   "id": "optical-franklin",
   "metadata": {},
   "source": [
    "**$H^1$-stable quasi-interpolation operators:**\n",
    "\n",
    "We need local interpolation-like operators\n",
    "$$\n",
    "\\pi_h : H^1 \\rightarrow V_h\n",
    "$$\n",
    "\n",
    "which are projectors onto $V_h$, i.e. $I_h v_h = v_h$ for $v_h \\in V_h$, are continuous in the $H^1$ semi-norm\n",
    "\n",
    "$$\n",
    "\\| \\nabla \\pi_h v \\|_{L_2(\\Omega)} \\prec \\| \\nabla v \\|_{L_2(\\Omega)},\n",
    "$$\n",
    "\n",
    "and satisfy the approximation estimate\n",
    "$$\n",
    " \\| \\tfrac{1}{h} (v - \\pi_h v) \\|_{L_2(\\Omega)} \\prec \\| \\nabla v \\|_{L_2(\\Omega)}.\n",
    "$$\n",
    "\n",
    "We cannot use a Clément-type quasi-interpolation operator: Such an operator defines nodal values by some local averaging."
   ]
  },
  {
   "cell_type": "markdown",
   "id": "radio-burke",
   "metadata": {},
   "source": [
    "We have now the tools to conduct the proof for the sub-space decomposition:\n",
    "\n",
    "For a given $u \\in V_h$ we define\n",
    "\n",
    "$$\n",
    "u_i = \\pi_h (\\psi_i u)\n",
    "$$\n",
    "\n",
    "These $u_i$ are in $V_i$, i.e. are localized finite element functions.\n",
    "\n",
    "By linearity of the quasi-interpolation, the partition of unity,\n",
    "and the projection property they are a decomposition of the given function $u$:\n",
    "\n",
    "$$\n",
    "\\sum u_i = \\sum \\pi_h (\\psi_i u) = \\pi_h \\big( \\sum \\psi_i u  \\big)\n",
    "= \\pi_h u = u\n",
    "$$\n",
    "\n",
    "\n",
    "Finally, we have to bound the norm of the decomposition. First,\n",
    "we use the boundedness of the quasi-interpolation in the $H^1$ semi-norm:\n",
    "\n",
    "$$\n",
    "\\| \\nabla u_i \\|_{L_2} = \\| \\nabla (\\pi_h \\psi_i u) \\|_{L_2}\n",
    "\\prec \\| \\nabla (\\psi_i u) \\|_{L_2} \n",
    "$$\n",
    "\n",
    "We continue with the product rule, and bounds for the pum-functions and their derivatives:\n",
    "\n",
    "\\begin{eqnarray*}\n",
    "\\| \\nabla u_i \\|_{L_2} & \\prec & \\| (\\nabla \\psi_i) u + \\|\n",
    "\\end{eqnarray*}"
   ]
  },
  {
   "cell_type": "markdown",
   "id": "annual-satisfaction",
   "metadata": {},
   "source": [
    "Overlapping DD Methods with coarse grid\n",
    "---"
   ]
  },
  {
   "cell_type": "code",
   "execution_count": null,
   "id": "growing-structure",
   "metadata": {},
   "outputs": [],
   "source": []
  }
 ],
 "metadata": {
  "kernelspec": {
   "display_name": "Python 3",
   "language": "python",
   "name": "python3"
  },
  "language_info": {
   "codemirror_mode": {
    "name": "ipython",
    "version": 3
   },
   "file_extension": ".py",
   "mimetype": "text/x-python",
   "name": "python",
   "nbconvert_exporter": "python",
   "pygments_lexer": "ipython3",
   "version": "3.9.4"
  }
 },
 "nbformat": 4,
 "nbformat_minor": 5
}
