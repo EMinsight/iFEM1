{
 "cells": [
  {
   "cell_type": "markdown",
   "id": "9eba7e98-51bc-4003-94a4-1e69f84ba3d7",
   "metadata": {},
   "source": [
    "# Schwarz preconditioners for high order finite elements\n",
    "\n",
    "Basis functions for high order finite element methods (aka p-version fem) are associated with vertices, edges, faces and cells of the triangulation. Thus, there is a natural way to define block-Jacobi (or block-Gauss-Seidel) preconditioners by combining dofs sitting on the same geometric entities (called nodes)."
   ]
  },
  {
   "cell_type": "code",
   "execution_count": 1,
   "id": "5c636d92-4368-4e6d-ad9b-23955873969a",
   "metadata": {},
   "outputs": [],
   "source": [
    "from ngsolve import *"
   ]
  },
  {
   "cell_type": "code",
   "execution_count": null,
   "id": "cc0f24ef-d8b0-4408-a3f5-de52a330a357",
   "metadata": {},
   "outputs": [],
   "source": []
  }
 ],
 "metadata": {
  "kernelspec": {
   "display_name": "Python 3 (ipykernel)",
   "language": "python",
   "name": "python3"
  },
  "language_info": {
   "codemirror_mode": {
    "name": "ipython",
    "version": 3
   },
   "file_extension": ".py",
   "mimetype": "text/x-python",
   "name": "python",
   "nbconvert_exporter": "python",
   "pygments_lexer": "ipython3",
   "version": "3.12.2"
  }
 },
 "nbformat": 4,
 "nbformat_minor": 5
}
