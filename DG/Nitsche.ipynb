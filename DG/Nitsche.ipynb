{
 "cells": [
  {
   "cell_type": "markdown",
   "id": "2452aa97",
   "metadata": {},
   "source": [
    "# Nitsche's Method for boundary and interface conditions"
   ]
  },
  {
   "cell_type": "code",
   "execution_count": null,
   "id": "b10fb218",
   "metadata": {},
   "outputs": [],
   "source": [
    "from netgen.occ import unit_square\n",
    "from ngsolve import *\n",
    "from ngsolve.webgui import Draw\n",
    "\n",
    "mesh = Mesh(unit_square.GenerateMesh(maxh=0.05))"
   ]
  },
  {
   "cell_type": "code",
   "execution_count": null,
   "id": "13da3a8d",
   "metadata": {},
   "outputs": [],
   "source": [
    "fes = H1(mesh, order=4)\n",
    "u,v = fes.TnT()\n",
    "\n",
    "h = specialcf.mesh_size\n",
    "a = BilinearForm(grad(u)*grad(v)*dx + 1/h*u*v*ds).Assemble()\n",
    "f = LinearForm(10*v*dx).Assemble()\n",
    "\n",
    "gfu = GridFunction(fes)\n",
    "gfu.vec.data = a.mat.Inverse() * f.vec\n",
    "\n",
    "print (\"error bc:\", Integrate((gfu-0)**2, mesh.Boundaries(\".*\")))\n",
    "Draw (gfu);"
   ]
  },
  {
   "cell_type": "code",
   "execution_count": null,
   "id": "90b9fbdd",
   "metadata": {},
   "outputs": [],
   "source": [
    "n = specialcf.normal(mesh.dim)\n",
    "\n",
    "a = BilinearForm(fes)\n",
    "a += grad(u)*grad(v)*dx + 1/h*u*v*ds\n",
    "a += (-n*grad(u)*v-n*grad(v)*u) * ds(skeleton=True)\n",
    "a.Assemble()\n",
    "\n",
    "gfu.vec.data = a.mat.Inverse() * f.vec\n",
    "\n",
    "print (\"error bc:\", Integrate((gfu-0)**2, mesh.Boundaries(\".*\")))\n",
    "Draw (gfu);"
   ]
  },
  {
   "cell_type": "markdown",
   "id": "3dfab31b",
   "metadata": {},
   "source": [
    "## Interfaces"
   ]
  },
  {
   "cell_type": "code",
   "execution_count": null,
   "id": "b7189861",
   "metadata": {},
   "outputs": [],
   "source": []
  }
 ],
 "metadata": {
  "kernelspec": {
   "display_name": "Python 3 (ipykernel)",
   "language": "python",
   "name": "python3"
  },
  "language_info": {
   "codemirror_mode": {
    "name": "ipython",
    "version": 3
   },
   "file_extension": ".py",
   "mimetype": "text/x-python",
   "name": "python",
   "nbconvert_exporter": "python",
   "pygments_lexer": "ipython3",
   "version": "3.10.2"
  }
 },
 "nbformat": 4,
 "nbformat_minor": 5
}
