{
 "cells": [
  {
   "cell_type": "markdown",
   "id": "2452aa97",
   "metadata": {},
   "source": [
    "# Nitsche's Method for boundary and interface conditions"
   ]
  },
  {
   "cell_type": "code",
   "execution_count": null,
   "id": "b10fb218",
   "metadata": {},
   "outputs": [],
   "source": [
    "from netgen.occ import *\n",
    "from ngsolve import *\n",
    "from ngsolve.webgui import Draw\n",
    "\n",
    "mesh = Mesh(unit_square.GenerateMesh(maxh=0.05))"
   ]
  },
  {
   "cell_type": "code",
   "execution_count": null,
   "id": "13da3a8d",
   "metadata": {},
   "outputs": [],
   "source": [
    "fes = H1(mesh, order=4)\n",
    "u,v = fes.TnT()\n",
    "\n",
    "h = specialcf.mesh_size\n",
    "a = BilinearForm(grad(u)*grad(v)*dx + 1/h*u*v*ds).Assemble()\n",
    "f = LinearForm(10*v*dx).Assemble()\n",
    "\n",
    "gfu = GridFunction(fes)\n",
    "gfu.vec.data = a.mat.Inverse() * f.vec\n",
    "\n",
    "print (\"error bc:\", Integrate((gfu-0)**2, mesh.Boundaries(\".*\")))\n",
    "Draw (gfu);"
   ]
  },
  {
   "cell_type": "code",
   "execution_count": null,
   "id": "90b9fbdd",
   "metadata": {},
   "outputs": [],
   "source": [
    "n = specialcf.normal(mesh.dim)\n",
    "\n",
    "a = BilinearForm(fes)\n",
    "a += grad(u)*grad(v)*dx + 1/h*u*v*ds\n",
    "a += (-n*grad(u)*v-n*grad(v)*u) * ds(skeleton=True)\n",
    "a.Assemble()\n",
    "\n",
    "gfu.vec.data = a.mat.Inverse() * f.vec\n",
    "\n",
    "print (\"error bc:\", Integrate((gfu-0)**2, mesh.Boundaries(\".*\")))\n",
    "Draw (gfu);"
   ]
  },
  {
   "cell_type": "markdown",
   "id": "3dfab31b",
   "metadata": {},
   "source": [
    "## Interfaces"
   ]
  },
  {
   "cell_type": "code",
   "execution_count": null,
   "id": "25f544d9",
   "metadata": {},
   "outputs": [],
   "source": [
    "from netgen.occ import *\n",
    "from ngsolve import *\n",
    "from ngsolve.webgui import Draw"
   ]
  },
  {
   "cell_type": "code",
   "execution_count": null,
   "id": "3de5928b",
   "metadata": {},
   "outputs": [],
   "source": [
    "square = MoveTo(0,0).Rectangle(1,1).Face()\n",
    "circo = Circle((0.5,0.5), 0.3).Face()\n",
    "circ = Circle((0.5,0.5), 0.3).Face()\n",
    "bar = MoveTo(0.3,0.45).Rectangle(0.4,0.1).Face()\n",
    "\n",
    "square.edges.name=\"outer\"\n",
    "circ.edges.name=\"gammai\"\n",
    "circo.edges.name=\"gammao\"\n",
    "outer = square-circo\n",
    "outer.faces.name = \"outer\"\n",
    "\n",
    "circ.faces.name = \"inner\"\n",
    "bar.faces.name = \"bar\"\n",
    "inner = circ-bar\n",
    "\n",
    "both = Compound([outer, inner, bar])\n",
    "mesh = Mesh(OCCGeometry(both, dim=2).GenerateMesh(maxh=0.05)).Curve(3)\n",
    "print (mesh.GetBoundaries())\n",
    "Draw (mesh);"
   ]
  },
  {
   "cell_type": "code",
   "execution_count": null,
   "id": "c7e50114",
   "metadata": {},
   "outputs": [],
   "source": [
    "def SetMeshRotation(angle):\n",
    "    mesh.UnsetDeformation()\n",
    "    deform = GridFunction(VectorH1(mesh, order=3))\n",
    "\n",
    "    rotmat = CF( (cos(angle), -sin(angle), sin(angle), cos(angle))).Reshape( (2,2))\n",
    "    center = CF( (0.5, 0.5) )\n",
    "    pos = CF( (x,y) )\n",
    "\n",
    "    deform.Set( (rotmat-Id(2))*(pos-center), definedon=mesh.Materials(\"inner|bar\"))\n",
    "\n",
    "    mesh.SetDeformation(deform) \n",
    "    return deform"
   ]
  },
  {
   "cell_type": "code",
   "execution_count": null,
   "id": "b7eee0c8",
   "metadata": {},
   "outputs": [],
   "source": [
    "from time import sleep\n",
    "scene = Draw (mesh)\n",
    "\n",
    "for i in range(10):\n",
    "    SetMeshRotation(i/10)\n",
    "    scene.Redraw()\n",
    "    sleep(0.1)"
   ]
  },
  {
   "cell_type": "code",
   "execution_count": null,
   "id": "5e9055a0",
   "metadata": {},
   "outputs": [],
   "source": [
    "fes = H1(mesh, order=3, dirichlet=\"outer\")\n",
    "u,v = fes.TnT()\n",
    "a = BilinearForm(grad(u)*grad(v)*dx + u*v*dx).Assemble()\n",
    "f = LinearForm((x-0.5)*v*dx(\"bar\")).Assemble()\n",
    "gfu = GridFunction(fes)\n",
    "gfu.vec.data = a.mat.Inverse(freedofs=fes.FreeDofs())*f.vec\n",
    "Draw (gfu);"
   ]
  },
  {
   "cell_type": "code",
   "execution_count": null,
   "id": "767fa481",
   "metadata": {},
   "outputs": [],
   "source": [
    "deform = SetMeshRotation(0.8)\n",
    "mesh.UnsetDeformation()\n",
    "\n",
    "a = BilinearForm(grad(u)*grad(v)*dx + u*v*dx)\n",
    "\n",
    "contact = ContactBoundary(mesh.Boundaries(\"gammai\"), mesh.Boundaries(\"gammao\"))\n",
    "h = specialcf.mesh_size\n",
    "contact.AddIntegrator (100/h*(u-u.Other()) * (v-v.Other()))\n",
    "# consisteny term not yet implemented for contact boundary\n",
    "# contact.AddIntegrator (n*grad(u)*(v.Other()-v)+n*grad(v)*(u.Other()-u))\n",
    "contact.Update (deform, bf=a)\n",
    "\n",
    "gfu.vec[:] = 0\n",
    "a.AssembleLinearization(gfu.vec)\n",
    "f = LinearForm(1e3*(x-0.5)*v*dx(\"bar\")).Assemble()\n",
    "\n",
    "gfu.vec.data = a.mat.Inverse(freedofs=fes.FreeDofs())*f.vec\n",
    "mesh.SetDeformation(deform)\n",
    "\n",
    "Draw (gfu)\n",
    "Draw (grad(gfu), mesh);"
   ]
  },
  {
   "cell_type": "markdown",
   "id": "baacb23e",
   "metadata": {},
   "source": [
    "# Hybrid Interfaces"
   ]
  },
  {
   "cell_type": "code",
   "execution_count": null,
   "id": "1ff4d3a5",
   "metadata": {},
   "outputs": [],
   "source": []
  }
 ],
 "metadata": {
  "kernelspec": {
   "display_name": "Python 3 (ipykernel)",
   "language": "python",
   "name": "python3"
  },
  "language_info": {
   "codemirror_mode": {
    "name": "ipython",
    "version": 3
   },
   "file_extension": ".py",
   "mimetype": "text/x-python",
   "name": "python",
   "nbconvert_exporter": "python",
   "pygments_lexer": "ipython3",
   "version": "3.10.2"
  }
 },
 "nbformat": 4,
 "nbformat_minor": 5
}
