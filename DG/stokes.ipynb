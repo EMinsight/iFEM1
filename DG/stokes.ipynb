{
 "cells": [
  {
   "cell_type": "markdown",
   "metadata": {},
   "source": [
    "# H(div)-conforming Stokes\n",
    "\n",
    "\n",
    "$H(div)$-conforming hybrid DG [Lehrenfeld+Schöberl, 2016]\n",
    "\n",
    "Find $u \\in BDM^k, \\hat u \\in P^k_{t}, p \\in P^k$ ..."
   ]
  },
  {
   "cell_type": "code",
   "execution_count": 1,
   "metadata": {},
   "outputs": [],
   "source": [
    "import netgen.gui\n",
    "from netgen.geom2d import SplineGeometry\n",
    "from ngsolve import *"
   ]
  },
  {
   "cell_type": "code",
   "execution_count": 2,
   "metadata": {},
   "outputs": [],
   "source": [
    "geo = SplineGeometry()\n",
    "geo.AddRectangle( (0, 0), (2, 0.41), bcs = (\"wall\", \"outlet\", \"wall\", \"inlet\"))\n",
    "geo.AddCircle ( (0.2, 0.2), r=0.05, leftdomain=0, rightdomain=1, bc=\"cyl\")\n",
    "mesh = Mesh( geo.GenerateMesh(maxh=0.08))\n",
    "mesh.Curve(5)"
   ]
  },
  {
   "cell_type": "code",
   "execution_count": 3,
   "metadata": {},
   "outputs": [],
   "source": [
    "order=4\n",
    "VT = HDiv(mesh, order=order, dirichlet=\"wall|cyl|inlet\")\n",
    "VF = VectorFacet(mesh, order=order, dirichlet=\"wall|cyl|inlet\")\n",
    "Q = L2(mesh, order=order-1)\n",
    "V = FESpace ([VT,VF,Q])\n",
    "\n",
    "u, uhat, p = V.TrialFunction()\n",
    "v, vhat, q = V.TestFunction()"
   ]
  },
  {
   "cell_type": "code",
   "execution_count": 4,
   "metadata": {},
   "outputs": [],
   "source": [
    "n = specialcf.normal(mesh.dim)\n",
    "h = specialcf.mesh_size\n",
    "\n",
    "def tang(vec):\n",
    "    return vec - (vec*n)*n\n",
    "\n",
    "# Thesis Christoph Lehrenfeld, page 71\n",
    "a = BilinearForm (V)\n",
    "nu = 1e-3\n",
    "a += SymbolicBFI (nu*InnerProduct(grad(u), grad(v)))\n",
    "a += SymbolicBFI (nu*InnerProduct(grad(u).trans*n, tang(vhat-v)), element_boundary=True )\n",
    "a += SymbolicBFI (nu*InnerProduct(grad(v).trans*n, tang(uhat-u)), element_boundary=True )\n",
    "a += SymbolicBFI (nu*4*order*order/h * InnerProduct(tang(vhat-v), tang(uhat-u)), element_boundary=True )\n",
    "a += SymbolicBFI (div(u)*q + div(v)*p)\n",
    "a.Assemble()"
   ]
  },
  {
   "cell_type": "code",
   "execution_count": 6,
   "metadata": {},
   "outputs": [],
   "source": [
    "f = LinearForm(V)\n",
    "f.Assemble()\n",
    "\n",
    "invstokes = a.mat.Inverse(V.FreeDofs())\n",
    "\n",
    "gfu = GridFunction(V)\n",
    "uin = CoefficientFunction((1.5*4*y*(0.41-y)/(0.41*0.41),0))\n",
    "gfu.components[0].Set(uin, definedon=mesh.Boundaries(\"inlet\"))"
   ]
  },
  {
   "cell_type": "code",
   "execution_count": 7,
   "metadata": {},
   "outputs": [],
   "source": [
    "res = f.vec.CreateVector()\n",
    "res.data = f.vec - a.mat*gfu.vec\n",
    "gfu.vec.data += invstokes * res\n",
    "Draw (gfu.components[0], mesh, \"vel\") # velocity\n",
    "Draw (gfu.components[2], mesh, \"pressure\") # pressure"
   ]
  },
  {
   "cell_type": "code",
   "execution_count": null,
   "metadata": {},
   "outputs": [],
   "source": []
  }
 ],
 "metadata": {
  "kernelspec": {
   "display_name": "Python 3",
   "language": "python",
   "name": "python3"
  },
  "language_info": {
   "codemirror_mode": {
    "name": "ipython",
    "version": 3
   },
   "file_extension": ".py",
   "mimetype": "text/x-python",
   "name": "python",
   "nbconvert_exporter": "python",
   "pygments_lexer": "ipython3",
   "version": "3.7.2"
  }
 },
 "nbformat": 4,
 "nbformat_minor": 2
}
