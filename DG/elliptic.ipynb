{
 "cells": [
  {
   "cell_type": "markdown",
   "metadata": {},
   "source": [
    "Hybrid DG for elliptic equations\n",
    "===\n",
    "$\\DeclareMathOperator{\\opdiv}{div}$"
   ]
  },
  {
   "cell_type": "markdown",
   "metadata": {
    "collapsed": true
   },
   "source": [
    "The discretization of elliptic operators by DG is more tricky. Instead of the DG method, we go directly to the hybrid DG method (HDG). \n",
    "\n",
    "The HDG method involves discontinuous polynomials on elements, and additional polynomials on the edges (or faces, in 3D).\n",
    "\n",
    "We start from the Poisson equation\n",
    "$$\n",
    "-\\Delta u = f\n",
    "$$\n",
    "\n",
    "multiply by discontinuous test functions, integrate by parts on every element:\n",
    "\n",
    "$$\n",
    "\\sum_T \\int_T \\nabla u \\nabla v - \\int_{\\partial T} \\frac{\\partial u}{\\partial n} v = \\int_\\Omega f v\n",
    "$$\n",
    "\n",
    "Since the normal-derivatives are continuous from element to element, we can smuggle in a single-valued test-function $\\widehat v$ on every edge:\n",
    "\n",
    "$$\n",
    "\\sum_T \\int_T \\nabla u \\nabla v - \\int_{\\partial T} \\frac{\\partial u}{\\partial n} (v-\\widehat{v}) = \\int_\\Omega f v\n",
    "$$\n",
    "\n",
    "This is a non-symmetric bilinear-form for the self-adjoint Poisson operator, what we don't like. For the true solution $u$, the solution on the elements restricted to the edges is the same as the solution restricted to the edges, we are adding a zero term:\n",
    "\n",
    "$$\n",
    "\\sum_T \\int_T \\nabla u \\nabla v \n",
    "- \\int_{\\partial T} \\frac{\\partial u}{\\partial n} (v-\\widehat{v}) \n",
    "- \\int_{\\partial T} \\frac{\\partial v}{\\partial n} (u-\\widehat{u}) \n",
    "= \\int_\\Omega f v\n",
    "$$\n",
    "\n",
    "This form may not be coercive, and we have to add a stabilization term:\n",
    "\n",
    "$$\n",
    "\\sum_T \\int_T \\nabla u \\nabla v \n",
    "- \\int_{\\partial T} \\frac{\\partial u}{\\partial n} (v-\\widehat{v}) \n",
    "- \\int_{\\partial T} \\frac{\\partial v}{\\partial n} (u-\\widehat{u}) \n",
    "+ \\int_{\\partial T} \\frac{\\alpha p^2}{h} (u-\\widehat{u}) (v-\\widehat{v})\n",
    "= \\int_\\Omega f v\n",
    "$$\n",
    "\n",
    "Here, $h$ is the element-size, $p$ the polynomial order, and $\\alpha$ a sufficiently large stabilization parameter (typically 3 in 2D and 10 in 3D). This 'sufficiently large' condition is a drawback of the so called interior penalty version of DG/HDG, but there exist more sophisticated, robust versions."
   ]
  },
  {
   "cell_type": "code",
   "execution_count": 1,
   "metadata": {},
   "outputs": [],
   "source": [
    "import netgen.gui\n",
    "from ngsolve import *\n",
    "from netgen.geom2d import unit_square\n",
    "mesh = Mesh(unit_square.GenerateMesh(maxh=0.3))"
   ]
  },
  {
   "cell_type": "code",
   "execution_count": 7,
   "metadata": {},
   "outputs": [],
   "source": [
    "order = 2\n",
    "fes1 = L2(mesh, order=order)\n",
    "fes2 = FacetFESpace(mesh, order=order, dirichlet=\"left|bottom\", \n",
    "                    highest_order_dc=False)\n",
    "fes = FESpace( [fes1,fes2])"
   ]
  },
  {
   "cell_type": "code",
   "execution_count": 11,
   "metadata": {},
   "outputs": [
    {
     "name": "stdout",
     "output_type": "stream",
     "text": [
      "ndof:  376\n",
      "non-zero(A): 6602\n",
      "non-zero(Inv): 3225\n"
     ]
    }
   ],
   "source": [
    "u,uhat = fes.TrialFunction()\n",
    "v,vhat = fes.TestFunction()\n",
    "\n",
    "h = specialcf.mesh_size\n",
    "n = specialcf.normal(2)\n",
    "alpha = 3\n",
    "\n",
    "a = BilinearForm(fes, condense=False)\n",
    "a += SymbolicBFI(grad(u)*grad(v))\n",
    "a += SymbolicBFI(-n*grad(u)*(v-vhat)-n*grad(v)*(u-uhat),\n",
    "                 element_boundary=True)\n",
    "a += SymbolicBFI(alpha*(order+1)**2/h*(u-uhat)*(v-vhat),element_boundary=True)\n",
    "\n",
    "f = LinearForm(fes)\n",
    "f += SymbolicLFI(1*v)\n",
    "\n",
    "a.Assemble()\n",
    "f.Assemble()\n",
    "\n",
    "print (\"ndof: \", fes.ndof)\n",
    "print (\"non-zero(A):\", a.mat.nze)\n",
    "print (\"non-zero(Inv):\", a.mat.Inverse(fes.FreeDofs(a.condense), \"sparsecholesky\").nze)"
   ]
  },
  {
   "cell_type": "code",
   "execution_count": 10,
   "metadata": {},
   "outputs": [],
   "source": [
    "u = GridFunction(fes)\n",
    "# u.vec.data = a.mat.Inverse(fes.FreeDofs()) * f.vec\n",
    "solvers.BVP(bf=a, lf=f, gf=u)\n",
    "Draw (u.components[0])"
   ]
  },
  {
   "cell_type": "code",
   "execution_count": null,
   "metadata": {},
   "outputs": [],
   "source": []
  }
 ],
 "metadata": {
  "kernelspec": {
   "display_name": "Python 3",
   "language": "python",
   "name": "python3"
  },
  "language_info": {
   "codemirror_mode": {
    "name": "ipython",
    "version": 3
   },
   "file_extension": ".py",
   "mimetype": "text/x-python",
   "name": "python",
   "nbconvert_exporter": "python",
   "pygments_lexer": "ipython3",
   "version": "3.7.0"
  }
 },
 "nbformat": 4,
 "nbformat_minor": 2
}
