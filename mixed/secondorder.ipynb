{
 "cells": [
  {
   "cell_type": "markdown",
   "metadata": {
    "collapsed": true
   },
   "source": [
    "Mixed Methods for second order equations\n",
    "====\n",
    "\n",
    "Again, we consider the second order equation\n",
    "\n",
    "$$\n",
    "-\\Delta u = f, \\qquad u = 0 \\text{ on } \\partial \\Omega\n",
    "$$\n",
    "\n",
    "We introduce now a new variable $\\sigma$ for $\\nabla u$, and rewrite the second order equation as first order system:\n",
    "\n",
    "$$\n",
    "\\begin{array}{ccccl}\n",
    "\\sigma & - & \\nabla u & = & 0 \\\\\n",
    "\\operatorname{div} \\sigma & & & = & -f\n",
    "\\end{array}\n",
    "$$\n",
    "\n",
    "We multiply the first equation by a test-function $\\tau$, and the secon d by a test-function $v$. We use integration by parts $\\int_\\Omega \\nabla u \\tau = -\\int_\\Omega u \\operatorname{div} \\tau + \\int_{\\partial \\Omega} u \\tau_n$.\n",
    "\n",
    "The weak formulation is: find $\\sigma \\in \\Sigma := H(\\operatorname{div})$ and $u \\in V := L_2$ such that\n",
    "\n",
    "$$\n",
    "\\begin{array}{ccccll}\n",
    "\\int \\sigma \\tau & + & \\int u \\operatorname{div} \\tau & = & 0 & \\forall \\, \\tau \\in \\Sigma \\\\\n",
    "\\int v \\operatorname{div} \\sigma &&& = & 0 & \\forall \\, v \\in V\n",
    "\\end{array}\n",
    "$$\n",
    "\n",
    "The function space is\n",
    "\n",
    "$$\n",
    "H(\\operatorname{div}) = \\{ \\tau \\in [L_2(\\Omega)]^d : \\operatorname{div} \\tau \\in L_2(\\Omega) \\}\n",
    "$$\n",
    "\n",
    "We don't need derivatives of $u$ and $v$, thus these fields are chosen in $L_2$."
   ]
  },
  {
   "cell_type": "code",
   "execution_count": 3,
   "metadata": {
    "collapsed": true
   },
   "outputs": [],
   "source": [
    "import netgen.gui\n",
    "%gui tk\n",
    "from netgen.geom2d import unit_square\n",
    "from ngsolve import *\n",
    "mesh = Mesh(unit_square.GenerateMesh(maxh=0.1))\n",
    "Draw (mesh)"
   ]
  },
  {
   "cell_type": "code",
   "execution_count": 11,
   "metadata": {
    "collapsed": true
   },
   "outputs": [],
   "source": [
    "Sigma = HDiv(mesh, order=3)\n",
    "V = L2(mesh, order=2)\n",
    "X = FESpace([Sigma,V])"
   ]
  },
  {
   "cell_type": "code",
   "execution_count": 12,
   "metadata": {
    "collapsed": true
   },
   "outputs": [],
   "source": [
    "sigma,u = X.TrialFunction()\n",
    "tau,v = X.TestFunction()\n",
    "a = BilinearForm(X)\n",
    "a += SymbolicBFI(sigma*tau+div(sigma)*v+div(tau)*u)\n",
    "f = LinearForm(X)\n",
    "f += SymbolicLFI(-1*v)\n",
    "a.Assemble()\n",
    "f.Assemble()\n",
    "gfu = GridFunction(X)\n",
    "gfu.vec.data = a.mat.Inverse() * f.vec\n",
    "Draw (gfu.components[0], mesh, \"flux\")\n",
    "Draw (gfu.components[1], mesh, \"u\")"
   ]
  },
  {
   "cell_type": "code",
   "execution_count": null,
   "metadata": {
    "collapsed": true
   },
   "outputs": [],
   "source": []
  }
 ],
 "metadata": {
  "kernelspec": {
   "display_name": "Python 3",
   "language": "python",
   "name": "python3"
  },
  "language_info": {
   "codemirror_mode": {
    "name": "ipython",
    "version": 3
   },
   "file_extension": ".py",
   "mimetype": "text/x-python",
   "name": "python",
   "nbconvert_exporter": "python",
   "pygments_lexer": "ipython3",
   "version": "3.6.2"
  }
 },
 "nbformat": 4,
 "nbformat_minor": 2
}
