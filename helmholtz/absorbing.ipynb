{
 "cells": [
  {
   "cell_type": "markdown",
   "metadata": {},
   "source": [
    "Helmholtz Equation\n",
    "===\n",
    "\n",
    "The Holmholtz equation or frequency domain wave equation is\n",
    "\n",
    "$$\n",
    "-\\Delta u - \\omega^2 u = f\n",
    "$$\n",
    "\n",
    "we consider Dirichlet (\"hard\") boundary conditions \n",
    "\n",
    "$$\n",
    "u(x) = 0 \n",
    "$$\n",
    "\n",
    "and Robin (\"absorbing\") boundary conditions\n",
    "\n",
    "$$\n",
    "\\frac{\\partial u}{\\partial n} + i \\omega u = 0 \\qquad \\text{ on } \\Gamma_R\n",
    "$$\n",
    "\n",
    "The weak form is \n",
    "\n",
    "$$\n",
    "\\int_\\Omega \\nabla u \\nabla v - \\omega^2 u v + i \\omega \\int_{\\Gamma_R} u v = \\int_\\Omega f v\n",
    "$$"
   ]
  },
  {
   "cell_type": "code",
   "execution_count": 1,
   "metadata": {},
   "outputs": [],
   "source": [
    "import netgen.gui\n",
    "from ngsolve import *\n",
    "%gui tk"
   ]
  },
  {
   "cell_type": "code",
   "execution_count": 2,
   "metadata": {},
   "outputs": [],
   "source": [
    "from netgen.geom2d import unit_square\n",
    "mesh = Mesh(unit_square.GenerateMesh(maxh=0.05))\n",
    "\n",
    "from math import pi"
   ]
  },
  {
   "cell_type": "code",
   "execution_count": 3,
   "metadata": {},
   "outputs": [],
   "source": [
    "fes = H1(mesh, order=5, complex=True)\n",
    "u = fes.TrialFunction()\n",
    "v = fes.TestFunction()\n",
    "a = BilinearForm(fes)\n",
    "f = LinearForm(fes)\n",
    "\n",
    "omega = 2*pi*20\n",
    "a += SymbolicBFI (grad(u)*grad(v)-omega**2*u*v)\n",
    "a += SymbolicBFI (-1j*omega*u*v, BND)\n",
    "f = LinearForm(fes)\n",
    "\n",
    "source = exp(-50**2*((x-0.5)*(x-0.5)+(y-0.5)*(y-0.5)))\n",
    "f += SymbolicLFI(source*v)\n",
    "\n",
    "a.Assemble()\n",
    "f.Assemble()\n",
    "\n",
    "gfu = GridFunction(fes)\n",
    "gfu.vec.data = a.mat.Inverse(fes.FreeDofs()) * f.vec\n",
    "Draw (gfu)"
   ]
  },
  {
   "cell_type": "code",
   "execution_count": 4,
   "metadata": {},
   "outputs": [],
   "source": [
    "fes = H1(mesh, order=8, complex=True)\n",
    "u = fes.TrialFunction()\n",
    "v = fes.TestFunction()\n",
    "a = BilinearForm(fes)\n",
    "f = LinearForm(fes)\n",
    "\n",
    "omega = 2*pi*20\n",
    "a += SymbolicBFI (grad(u)*grad(v)-omega**2*u*v)\n",
    "a += SymbolicBFI (-1j*omega*u*v, BND)\n",
    "f = LinearForm(fes)\n",
    "\n",
    "source = exp(-10**2*(y-0.5)*(y-0.5))\n",
    "f += SymbolicLFI(source*v, definedon=mesh.Boundaries(\"left\"))\n",
    "\n",
    "a.Assemble()\n",
    "f.Assemble()\n",
    "\n",
    "gfu = GridFunction(fes)\n",
    "gfu.vec.data = a.mat.Inverse(fes.FreeDofs()) * f.vec\n",
    "Draw (gfu)"
   ]
  },
  {
   "cell_type": "code",
   "execution_count": null,
   "metadata": {
    "collapsed": true
   },
   "outputs": [],
   "source": []
  }
 ],
 "metadata": {
  "kernelspec": {
   "display_name": "Python 3",
   "language": "python",
   "name": "python3"
  },
  "language_info": {
   "codemirror_mode": {
    "name": "ipython",
    "version": 3
   },
   "file_extension": ".py",
   "mimetype": "text/x-python",
   "name": "python",
   "nbconvert_exporter": "python",
   "pygments_lexer": "ipython3",
   "version": "3.6.5"
  }
 },
 "nbformat": 4,
 "nbformat_minor": 2
}
